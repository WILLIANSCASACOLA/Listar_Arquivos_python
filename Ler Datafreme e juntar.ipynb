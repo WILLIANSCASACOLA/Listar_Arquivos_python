from functools import reduce
from pyspark.sql import DataFrame

dataframes = [df1, df2, df3, df4]  # Lista de DataFrames

df_final = reduce(DataFrame.union, dataframes)