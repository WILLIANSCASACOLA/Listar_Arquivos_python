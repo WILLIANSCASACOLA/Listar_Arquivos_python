{
  "nbformat": 4,
  "nbformat_minor": 0,
  "metadata": {
    "colab": {
      "provenance": [],
      "mount_file_id": "160UilGmv8ckq9CFI_zxlgapUbdWbztwP",
      "authorship_tag": "ABX9TyNGjKpRo0/k2N0mYVUaYTPl",
      "include_colab_link": true
    },
    "kernelspec": {
      "name": "python3",
      "display_name": "Python 3"
    },
    "language_info": {
      "name": "python"
    }
  },
  "cells": [
    {
      "cell_type": "markdown",
      "metadata": {
        "id": "view-in-github",
        "colab_type": "text"
      },
      "source": [
        "<a href=\"https://colab.research.google.com/github/WILLIANSCASACOLA/Listar_Arquivos_python/blob/main/UnirDataFrames.ipynb\" target=\"_parent\"><img src=\"https://colab.research.google.com/assets/colab-badge.svg\" alt=\"Open In Colab\"/></a>"
      ]
    },
    {
      "cell_type": "code",
      "execution_count": 172,
      "metadata": {
        "id": "LECc7n2MWhJQ"
      },
      "outputs": [],
      "source": [
        "#Criar uma sessão spark\n",
        "from pyspark.sql import SparkSession\n",
        "spark = SparkSession.builder.appName(\"teste\").getOrCreate()\n"
      ]
    },
    {
      "cell_type": "code",
      "source": [
        "#Subir dados para google:\n",
        "from google.colab import files\n",
        "uploaded = files.upload()"
      ],
      "metadata": {
        "colab": {
          "base_uri": "https://localhost:8080/",
          "height": 38
        },
        "id": "VplUF7E7XNCM",
        "outputId": "266df69d-10ab-46ee-c340-33c2476ccf9e"
      },
      "execution_count": 173,
      "outputs": [
        {
          "output_type": "display_data",
          "data": {
            "text/plain": [
              "<IPython.core.display.HTML object>"
            ],
            "text/html": [
              "\n",
              "     <input type=\"file\" id=\"files-5e79ba21-dd83-484b-8645-c1064ff2e476\" name=\"files[]\" multiple disabled\n",
              "        style=\"border:none\" />\n",
              "     <output id=\"result-5e79ba21-dd83-484b-8645-c1064ff2e476\">\n",
              "      Upload widget is only available when the cell has been executed in the\n",
              "      current browser session. Please rerun this cell to enable.\n",
              "      </output>\n",
              "      <script>// Copyright 2017 Google LLC\n",
              "//\n",
              "// Licensed under the Apache License, Version 2.0 (the \"License\");\n",
              "// you may not use this file except in compliance with the License.\n",
              "// You may obtain a copy of the License at\n",
              "//\n",
              "//      http://www.apache.org/licenses/LICENSE-2.0\n",
              "//\n",
              "// Unless required by applicable law or agreed to in writing, software\n",
              "// distributed under the License is distributed on an \"AS IS\" BASIS,\n",
              "// WITHOUT WARRANTIES OR CONDITIONS OF ANY KIND, either express or implied.\n",
              "// See the License for the specific language governing permissions and\n",
              "// limitations under the License.\n",
              "\n",
              "/**\n",
              " * @fileoverview Helpers for google.colab Python module.\n",
              " */\n",
              "(function(scope) {\n",
              "function span(text, styleAttributes = {}) {\n",
              "  const element = document.createElement('span');\n",
              "  element.textContent = text;\n",
              "  for (const key of Object.keys(styleAttributes)) {\n",
              "    element.style[key] = styleAttributes[key];\n",
              "  }\n",
              "  return element;\n",
              "}\n",
              "\n",
              "// Max number of bytes which will be uploaded at a time.\n",
              "const MAX_PAYLOAD_SIZE = 100 * 1024;\n",
              "\n",
              "function _uploadFiles(inputId, outputId) {\n",
              "  const steps = uploadFilesStep(inputId, outputId);\n",
              "  const outputElement = document.getElementById(outputId);\n",
              "  // Cache steps on the outputElement to make it available for the next call\n",
              "  // to uploadFilesContinue from Python.\n",
              "  outputElement.steps = steps;\n",
              "\n",
              "  return _uploadFilesContinue(outputId);\n",
              "}\n",
              "\n",
              "// This is roughly an async generator (not supported in the browser yet),\n",
              "// where there are multiple asynchronous steps and the Python side is going\n",
              "// to poll for completion of each step.\n",
              "// This uses a Promise to block the python side on completion of each step,\n",
              "// then passes the result of the previous step as the input to the next step.\n",
              "function _uploadFilesContinue(outputId) {\n",
              "  const outputElement = document.getElementById(outputId);\n",
              "  const steps = outputElement.steps;\n",
              "\n",
              "  const next = steps.next(outputElement.lastPromiseValue);\n",
              "  return Promise.resolve(next.value.promise).then((value) => {\n",
              "    // Cache the last promise value to make it available to the next\n",
              "    // step of the generator.\n",
              "    outputElement.lastPromiseValue = value;\n",
              "    return next.value.response;\n",
              "  });\n",
              "}\n",
              "\n",
              "/**\n",
              " * Generator function which is called between each async step of the upload\n",
              " * process.\n",
              " * @param {string} inputId Element ID of the input file picker element.\n",
              " * @param {string} outputId Element ID of the output display.\n",
              " * @return {!Iterable<!Object>} Iterable of next steps.\n",
              " */\n",
              "function* uploadFilesStep(inputId, outputId) {\n",
              "  const inputElement = document.getElementById(inputId);\n",
              "  inputElement.disabled = false;\n",
              "\n",
              "  const outputElement = document.getElementById(outputId);\n",
              "  outputElement.innerHTML = '';\n",
              "\n",
              "  const pickedPromise = new Promise((resolve) => {\n",
              "    inputElement.addEventListener('change', (e) => {\n",
              "      resolve(e.target.files);\n",
              "    });\n",
              "  });\n",
              "\n",
              "  const cancel = document.createElement('button');\n",
              "  inputElement.parentElement.appendChild(cancel);\n",
              "  cancel.textContent = 'Cancel upload';\n",
              "  const cancelPromise = new Promise((resolve) => {\n",
              "    cancel.onclick = () => {\n",
              "      resolve(null);\n",
              "    };\n",
              "  });\n",
              "\n",
              "  // Wait for the user to pick the files.\n",
              "  const files = yield {\n",
              "    promise: Promise.race([pickedPromise, cancelPromise]),\n",
              "    response: {\n",
              "      action: 'starting',\n",
              "    }\n",
              "  };\n",
              "\n",
              "  cancel.remove();\n",
              "\n",
              "  // Disable the input element since further picks are not allowed.\n",
              "  inputElement.disabled = true;\n",
              "\n",
              "  if (!files) {\n",
              "    return {\n",
              "      response: {\n",
              "        action: 'complete',\n",
              "      }\n",
              "    };\n",
              "  }\n",
              "\n",
              "  for (const file of files) {\n",
              "    const li = document.createElement('li');\n",
              "    li.append(span(file.name, {fontWeight: 'bold'}));\n",
              "    li.append(span(\n",
              "        `(${file.type || 'n/a'}) - ${file.size} bytes, ` +\n",
              "        `last modified: ${\n",
              "            file.lastModifiedDate ? file.lastModifiedDate.toLocaleDateString() :\n",
              "                                    'n/a'} - `));\n",
              "    const percent = span('0% done');\n",
              "    li.appendChild(percent);\n",
              "\n",
              "    outputElement.appendChild(li);\n",
              "\n",
              "    const fileDataPromise = new Promise((resolve) => {\n",
              "      const reader = new FileReader();\n",
              "      reader.onload = (e) => {\n",
              "        resolve(e.target.result);\n",
              "      };\n",
              "      reader.readAsArrayBuffer(file);\n",
              "    });\n",
              "    // Wait for the data to be ready.\n",
              "    let fileData = yield {\n",
              "      promise: fileDataPromise,\n",
              "      response: {\n",
              "        action: 'continue',\n",
              "      }\n",
              "    };\n",
              "\n",
              "    // Use a chunked sending to avoid message size limits. See b/62115660.\n",
              "    let position = 0;\n",
              "    do {\n",
              "      const length = Math.min(fileData.byteLength - position, MAX_PAYLOAD_SIZE);\n",
              "      const chunk = new Uint8Array(fileData, position, length);\n",
              "      position += length;\n",
              "\n",
              "      const base64 = btoa(String.fromCharCode.apply(null, chunk));\n",
              "      yield {\n",
              "        response: {\n",
              "          action: 'append',\n",
              "          file: file.name,\n",
              "          data: base64,\n",
              "        },\n",
              "      };\n",
              "\n",
              "      let percentDone = fileData.byteLength === 0 ?\n",
              "          100 :\n",
              "          Math.round((position / fileData.byteLength) * 100);\n",
              "      percent.textContent = `${percentDone}% done`;\n",
              "\n",
              "    } while (position < fileData.byteLength);\n",
              "  }\n",
              "\n",
              "  // All done.\n",
              "  yield {\n",
              "    response: {\n",
              "      action: 'complete',\n",
              "    }\n",
              "  };\n",
              "}\n",
              "\n",
              "scope.google = scope.google || {};\n",
              "scope.google.colab = scope.google.colab || {};\n",
              "scope.google.colab._files = {\n",
              "  _uploadFiles,\n",
              "  _uploadFilesContinue,\n",
              "};\n",
              "})(self);\n",
              "</script> "
            ]
          },
          "metadata": {}
        }
      ]
    },
    {
      "cell_type": "code",
      "source": [
        "# Criar df_Consumer\n",
        "# Esses arquivos estão aqui: D:\\Aplicativos\\Bancos\\Bases\n",
        "df_Consumer = spark.read.csv(\"Consumer.csv\", header=True, inferSchema=True, sep=\";\",encoding=\"UTF8\")\n",
        "df_Corporate = spark.read.csv(\"Corporate.csv\", header=True, inferSchema=True,sep=\";\",encoding=\"UTF8\")\n",
        "df_Home_Office = spark.read.csv(\"HomeOffice.csv\", header=True, inferSchema=True,sep=\";\",encoding=\"UTF8\")"
      ],
      "metadata": {
        "id": "ppobkBAcYP5X"
      },
      "execution_count": 174,
      "outputs": []
    },
    {
      "cell_type": "code",
      "source": [
        "#Para exibir tudo corretamente, use:\n",
        "df_Consumer.show(truncate=False)"
      ],
      "metadata": {
        "colab": {
          "base_uri": "https://localhost:8080/"
        },
        "id": "pd_agSrQZAil",
        "outputId": "aa89a189-cf86-487a-a792-158a66f7d10f"
      },
      "execution_count": 175,
      "outputs": [
        {
          "output_type": "stream",
          "name": "stdout",
          "text": [
            "+--------------+-----------+----------+--------+-------------+-------+---------------+---------------+-------------------------------------------------------------------+-----------+----------+\n",
            "|ID_Pedido     |Data_Pedido|ID_Cliente|Segmento|Pais         |Regiao |ID_Produto     |Categoria      |Nome_Produto                                                       |Valor_Venda|Quantidade|\n",
            "+--------------+-----------+----------+--------+-------------+-------+---------------+---------------+-------------------------------------------------------------------+-----------+----------+\n",
            "|CA-2016-152156|08/11/2016 |CG-12520  |Consumer|United States|South  |FUR-BO-10001798|Furniture      |Bush Somerset Collection Bookcase                                  |261.96     |NULL      |\n",
            "|CA-2016-152156|08/11/2016 |CG-12520  |Consumer|United States|South  |FUR-CH-10000454|Furniture      |Hon Deluxe Fabric Upholstered Stacking Chairs, Rounded Back        |731.94     |NULL      |\n",
            "|US-2015-108966|11/10/2015 |SO-20335  |Consumer|United States|South  |FUR-TA-10000577|Furniture      |Bretford CR4500 Series Slim Rectangular Table                      |9.575.775  |5         |\n",
            "|US-2015-108966|11/10/2015 |SO-20335  |Consumer|United States|South  |OFF-ST-10000760|Office Supplies|Eldon Fold 'N Roll Cart System                                     |22.368     |2         |\n",
            "|CA-2014-115812|09/06/2014 |BH-11710  |Consumer|United States|West   |FUR-FU-10001487|Furniture      |Eldon Expressions Wood and Plastic Desk Accessories, Cherry Wood   |48.86      |7         |\n",
            "|CA-2014-115812|09/06/2014 |BH-11710  |Consumer|United States|West   |OFF-AR-10002833|Office Supplies|Newell 322                                                         |7.28       |4         |\n",
            "|CA-2014-115812|09/06/2014 |BH-11710  |Consumer|United States|West   |TEC-PH-10002275|Technology     |Mitel 5320 IP Phone VoIP phone                                     |907.152    |6         |\n",
            "|CA-2014-115812|09/06/2014 |BH-11710  |Consumer|United States|West   |OFF-BI-10003910|Office Supplies|DXL Angle-View Binders with Locking Rings by Samsill               |18.504     |3         |\n",
            "|CA-2014-115812|09/06/2014 |BH-11710  |Consumer|United States|West   |OFF-AP-10002892|Office Supplies|Belkin F5C206VTEL 6 Outlet Surge                                   |114.9      |5         |\n",
            "|CA-2014-115812|09/06/2014 |BH-11710  |Consumer|United States|West   |FUR-TA-10001539|Furniture      |Chromcraft Rectangular Conference Tables                           |1.706.184  |9         |\n",
            "|CA-2014-115812|09/06/2014 |BH-11710  |Consumer|United States|West   |TEC-PH-10002033|Technology     |Konftel 250 Conference phone - Charcoal black                      |911.424    |4         |\n",
            "|CA-2017-114412|15/04/2017 |AA-10480  |Consumer|United States|South  |OFF-PA-10002365|Office Supplies|Xerox 1967                                                         |15.552     |3         |\n",
            "|CA-2016-161389|05/12/2016 |IM-15070  |Consumer|United States|West   |OFF-BI-10003656|Office Supplies|Fellowes PB200 Plastic Comb Binding Machine                        |407.976    |3         |\n",
            "|CA-2014-105893|11/11/2014 |PK-19075  |Consumer|United States|Central|OFF-ST-10004186|Office Supplies|\"Stur-D-Stor Shelving, Vertical 5-Shelf: 72\"\"H x 36\"\"W x 18 1/2\"\"D\"|665.88     |6         |\n",
            "|CA-2014-167164|13/05/2014 |AG-10270  |Consumer|United States|West   |OFF-ST-10000107|Office Supplies|Fellowes Super Stor/Drawer                                         |55.5       |2         |\n",
            "|CA-2014-143336|27/08/2014 |ZD-21925  |Consumer|United States|West   |OFF-AR-10003056|Office Supplies|Newell 341                                                         |8.56       |2         |\n",
            "|CA-2014-143336|27/08/2014 |ZD-21925  |Consumer|United States|West   |TEC-PH-10001949|Technology     |Cisco SPA 501G IP Phone                                            |213.48     |3         |\n",
            "|CA-2014-143336|27/08/2014 |ZD-21925  |Consumer|United States|West   |OFF-BI-10002215|Office Supplies|Wilson Jones Hanging View Binder, White, 1\"\"                       |22.72      |4         |\n",
            "|US-2017-156909|16/07/2017 |SF-20065  |Consumer|United States|East   |FUR-CH-10002774|Furniture      |Global Deluxe Stacking Chair, Gray                                 |71.372     |2         |\n",
            "|CA-2015-106320|25/09/2015 |EB-13870  |Consumer|United States|West   |FUR-TA-10000577|Furniture      |Bretford CR4500 Series Slim Rectangular Table                      |1044.63    |3         |\n",
            "+--------------+-----------+----------+--------+-------------+-------+---------------+---------------+-------------------------------------------------------------------+-----------+----------+\n",
            "only showing top 20 rows\n",
            "\n"
          ]
        }
      ]
    },
    {
      "cell_type": "code",
      "source": [
        "#Para exibir tudo corretamente, use:\n",
        "df_Corporate.show(truncate=False)"
      ],
      "metadata": {
        "colab": {
          "base_uri": "https://localhost:8080/"
        },
        "id": "Q438_SzBZEmr",
        "outputId": "937f586f-e365-4167-d07d-ce7cba6d7e72"
      },
      "execution_count": 176,
      "outputs": [
        {
          "output_type": "stream",
          "name": "stdout",
          "text": [
            "+--------------+-----------+----------+---------+-------------+-------+---------------+---------------+------------------------------------------------------------------------+-----------+----------+\n",
            "|ID_Pedido     |Data_Pedido|ID_Cliente|Segmento |Pais         |Regiao |ID_Produto     |Categoria      |Nome_Produto                                                            |Valor_Venda|Quantidade|\n",
            "+--------------+-----------+----------+---------+-------------+-------+---------------+---------------+------------------------------------------------------------------------+-----------+----------+\n",
            "|CA-2016-138688|12/06/2016 |DV-13045  |Corporate|United States|West   |OFF-LA-10000240|Office Supplies|Self-Adhesive Address Labels for Typewriters by Universal               |14.62      |2         |\n",
            "|CA-2016-137330|09/12/2016 |KB-16585  |Corporate|United States|Central|OFF-AR-10000246|Office Supplies|Newell 318                                                              |19.46      |7         |\n",
            "|CA-2016-137330|09/12/2016 |KB-16585  |Corporate|United States|Central|OFF-AP-10001492|Office Supplies|Acco Six-Outlet Power Strip, 4' Cord Length                             |60.34      |7         |\n",
            "|CA-2016-117590|08/12/2016 |GH-14485  |Corporate|United States|Central|TEC-PH-10004977|Technology     |GE 30524EE4                                                             |1.097.544  |7         |\n",
            "|CA-2016-117590|08/12/2016 |GH-14485  |Corporate|United States|Central|FUR-FU-10003664|Furniture      |Electrix Architect's Clamp-On Swing Arm Lamp, Black                     |190.92     |5         |\n",
            "|CA-2017-120999|10/09/2017 |LC-16930  |Corporate|United States|Central|TEC-PH-10004093|Technology     |Panasonic Kx-TS550                                                      |147.168    |4         |\n",
            "|CA-2016-101343|17/07/2016 |RA-19885  |Corporate|United States|West   |OFF-ST-10003479|Office Supplies|Eldon Base for stackable storage shelf, platinum                        |77.88      |2         |\n",
            "|CA-2017-139619|19/09/2017 |ES-14080  |Corporate|United States|South  |OFF-ST-10003282|Office Supplies|Advantus 10-Drawer Portable Organizer, Chrome Metal Frame, Smoke Drawers|95.616     |2         |\n",
            "|CA-2016-118255|11/03/2016 |ON-18715  |Corporate|United States|Central|TEC-AC-10000171|Technology     |Verbatim 25 GB 6x Blu-ray Single Layer Recordable Disc, 25/Pack         |45.98      |2         |\n",
            "|CA-2016-118255|11/03/2016 |ON-18715  |Corporate|United States|Central|OFF-BI-10003291|Office Supplies|Wilson Jones Leather-Like Binders with DublLock Round Rings             |17.46      |2         |\n",
            "|CA-2016-105816|11/12/2016 |JM-15265  |Corporate|United States|East   |OFF-FA-10000304|Office Supplies|Advantus Push Pins                                                      |15.26      |7         |\n",
            "|CA-2016-105816|11/12/2016 |JM-15265  |Corporate|United States|East   |TEC-PH-10002447|Technology     |AT&T CL83451 4-Handset Telephone                                        |1029.95    |5         |\n",
            "|CA-2014-106376|05/12/2014 |BS-11590  |Corporate|United States|West   |OFF-AR-10002671|Office Supplies|Hunt BOSTON Model 1606 High-Volume Electric Pencil Sharpener, Beige     |1.113.024  |8         |\n",
            "|CA-2014-106376|05/12/2014 |BS-11590  |Corporate|United States|West   |TEC-PH-10002726|Technology     |netTALK DUO VoIP Telephone Service                                      |167.968    |4         |\n",
            "|US-2017-118038|09/12/2017 |KB-16600  |Corporate|United States|Central|OFF-BI-10004182|Office Supplies|Economy Binders                                                         |1.248      |3         |\n",
            "|US-2017-118038|09/12/2017 |KB-16600  |Corporate|United States|Central|FUR-FU-10000260|Furniture      |\"6\"\" Cubicle Wall Clock, Black\"                                         |9.708      |3         |\n",
            "|US-2017-118038|09/12/2017 |KB-16600  |Corporate|United States|Central|OFF-ST-10000615|Office Supplies|SimpliFile Personal File, Black Granite, 15w x 6-15/16d x 11-1/4h       |27.24      |3         |\n",
            "|CA-2016-127208|12/06/2016 |SC-20770  |Corporate|United States|South  |OFF-AP-10002118|Office Supplies|\"1.7 Cubic Foot Compact \"\"Cube\"\" Office Refrigerators\"                  |208.16     |1         |\n",
            "|CA-2016-127208|12/06/2016 |SC-20770  |Corporate|United States|South  |OFF-BI-10002309|Office Supplies|Avery Heavy-Duty EZD  Binder With Locking Rings                         |16.74      |3         |\n",
            "|CA-2015-149734|03/09/2015 |JC-16105  |Corporate|United States|South  |OFF-EN-10000927|Office Supplies|Jet-Pak Recycled Peel 'N' Seal Padded Mailers                           |200.984    |7         |\n",
            "+--------------+-----------+----------+---------+-------------+-------+---------------+---------------+------------------------------------------------------------------------+-----------+----------+\n",
            "only showing top 20 rows\n",
            "\n"
          ]
        }
      ]
    },
    {
      "cell_type": "code",
      "source": [
        "#Para exibir tudo corretamente, use:\n",
        "df_Home_Office.show(truncate=False)"
      ],
      "metadata": {
        "colab": {
          "base_uri": "https://localhost:8080/"
        },
        "id": "CvbwNVS0ZGzT",
        "outputId": "fcb4a557-9f66-43d1-a54f-50ec1ea7fa12"
      },
      "execution_count": 177,
      "outputs": [
        {
          "output_type": "stream",
          "name": "stdout",
          "text": [
            "+--------------+-----------+----------+-----------+-------------+-------+---------------+---------------+----------------------------------------------------------------------------+-----------+----------+\n",
            "|ID_Pedido     |Data_Pedido|ID_Cliente|Segmento   |Pais         |Regiao |ID_Produto     |Categoria      |Nome_Produto                                                                |Valor_Venda|Quantidade|\n",
            "+--------------+-----------+----------+-----------+-------------+-------+---------------+---------------+----------------------------------------------------------------------------+-----------+----------+\n",
            "|US-2015-118983|22/11/2015 |HP-14815  |Home Office|United States|Central|OFF-AP-10002311|Office Supplies|Holmes Replacement Filter for HEPA Air Cleaner, Very Large Room, HEPA Filter|68.81      |5         |\n",
            "|US-2015-118983|22/11/2015 |HP-14815  |Home Office|United States|Central|OFF-BI-10000756|Office Supplies|Storex DuraTech Recycled Plastic Frosted Binders                            |2.544      |3         |\n",
            "|CA-2017-107727|19/10/2017 |MA-17560  |Home Office|United States|Central|OFF-PA-10000249|Office Supplies|Easy-staple paper                                                           |29.472     |3         |\n",
            "|CA-2015-117415|27/12/2015 |SN-20710  |Home Office|United States|Central|OFF-EN-10002986|Office Supplies|\"#10-4 1/8\"\" x 9 1/2\"\" Premium Diagonal Seam Envelopes\"                     |113.328    |9         |\n",
            "|CA-2015-117415|27/12/2015 |SN-20710  |Home Office|United States|Central|FUR-BO-10002545|Furniture      |Atlantic Metals Mobile 3-Shelf Bookcases, Custom Colors                     |5.323.992  |3         |\n",
            "|CA-2015-117415|27/12/2015 |SN-20710  |Home Office|United States|Central|FUR-CH-10004218|Furniture      |Global Fabric Manager's Chair, Dark Gray                                    |212.058    |3         |\n",
            "|CA-2015-117415|27/12/2015 |SN-20710  |Home Office|United States|Central|TEC-PH-10000486|Technology     |Plantronics HL10 Handset Lifter                                             |371.168    |4         |\n",
            "|US-2015-164175|30/04/2015 |PS-18970  |Home Office|United States|Central|FUR-CH-10001146|Furniture      |Global Value Mid-Back Manager's Chair, Gray                                 |213.115    |5         |\n",
            "|US-2017-119662|13/11/2017 |CS-12400  |Home Office|United States|Central|OFF-ST-10003656|Office Supplies|Safco Industrial Wire Shelving                                              |230.376    |3         |\n",
            "|CA-2016-159695|05/04/2016 |GM-14455  |Home Office|United States|Central|OFF-ST-10003442|Office Supplies|Eldon Portable Mobile Manager                                               |158.368    |7         |\n",
            "|US-2017-109484|06/11/2017 |RB-19705  |Home Office|United States|West   |OFF-BI-10004738|Office Supplies|Flexible Leather- Look Classic Collection Ring Binder                       |5.682      |1         |\n",
            "|CA-2017-161018|09/11/2017 |PN-18775  |Home Office|United States|East   |FUR-FU-10000629|Furniture      |9-3/4 Diameter Round Wall Clock                                             |96.53      |7         |\n",
            "|CA-2016-158568|29/08/2016 |RB-19465  |Home Office|United States|Central|OFF-PA-10003256|Office Supplies|Avery Personal Creations Heavyweight Cards                                  |64.624     |7         |\n",
            "|CA-2016-158568|29/08/2016 |RB-19465  |Home Office|United States|Central|TEC-AC-10001767|Technology     |SanDisk Ultra 64 GB MicroSDHC Class 10 Memory Card                          |95.976     |3         |\n",
            "|CA-2016-158568|29/08/2016 |RB-19465  |Home Office|United States|Central|OFF-BI-10002609|Office Supplies|Avery Hidden Tab Dividers for Binding Systems                               |1.788      |3         |\n",
            "|CA-2015-129476|15/10/2015 |PA-19060  |Home Office|United States|Central|TEC-AC-10000844|Technology     |Logitech Gaming G510s - Keyboard                                            |339.96     |5         |\n",
            "|US-2014-152030|26/12/2014 |AD-10180  |Home Office|United States|Central|FUR-CH-10004063|Furniture      |Global Deluxe High-Back Manager's Chair                                     |600.558    |3         |\n",
            "|US-2016-125969|06/11/2016 |LS-16975  |Home Office|United States|West   |FUR-CH-10001146|Furniture      |Global Task Chair, Black                                                    |81.424     |2         |\n",
            "|US-2016-125969|06/11/2016 |LS-16975  |Home Office|United States|West   |FUR-FU-10003773|Furniture      |Eldon Cleatmat Plus Chair Mats for High Pile Carpets                        |238.56     |3         |\n",
            "|CA-2014-110072|22/10/2014 |MG-17680  |Home Office|United States|East   |FUR-FU-10000521|Furniture      |\"Seth Thomas 14\"\" Putty-Colored Wall Clock\"                                 |93.888     |4         |\n",
            "+--------------+-----------+----------+-----------+-------------+-------+---------------+---------------+----------------------------------------------------------------------------+-----------+----------+\n",
            "only showing top 20 rows\n",
            "\n"
          ]
        }
      ]
    },
    {
      "cell_type": "code",
      "source": [
        "#Juntar todos os df em apenas um só\n",
        "df_all = df_Consumer.union(df_Corporate).union(df_Home_Office)"
      ],
      "metadata": {
        "id": "YiojmJ4wZSYC"
      },
      "execution_count": 178,
      "outputs": []
    },
    {
      "cell_type": "code",
      "source": [
        "#Colar uma coluna chamada \"Dt_ingest\" no df_all\n",
        "from pyspark.sql.functions import current_timestamp\n",
        "df_all = df_all.withColumn(\"Dt_ingest\", current_timestamp())"
      ],
      "metadata": {
        "id": "wOsoDBUcZnvT"
      },
      "execution_count": 179,
      "outputs": []
    },
    {
      "cell_type": "code",
      "source": [
        "#Para exibir tudo corretamente, use:\n",
        "df_all.show(truncate=False)"
      ],
      "metadata": {
        "colab": {
          "base_uri": "https://localhost:8080/"
        },
        "id": "ntGI9LKqZYlk",
        "outputId": "cb701269-92f7-4a41-d31c-4978f63d2724"
      },
      "execution_count": 180,
      "outputs": [
        {
          "output_type": "stream",
          "name": "stdout",
          "text": [
            "+--------------+-----------+----------+--------+-------------+-------+---------------+---------------+-------------------------------------------------------------------+-----------+----------+--------------------------+\n",
            "|ID_Pedido     |Data_Pedido|ID_Cliente|Segmento|Pais         |Regiao |ID_Produto     |Categoria      |Nome_Produto                                                       |Valor_Venda|Quantidade|Dt_ingest                 |\n",
            "+--------------+-----------+----------+--------+-------------+-------+---------------+---------------+-------------------------------------------------------------------+-----------+----------+--------------------------+\n",
            "|CA-2016-152156|08/11/2016 |CG-12520  |Consumer|United States|South  |FUR-BO-10001798|Furniture      |Bush Somerset Collection Bookcase                                  |261.96     |NULL      |2025-06-08 22:15:44.532846|\n",
            "|CA-2016-152156|08/11/2016 |CG-12520  |Consumer|United States|South  |FUR-CH-10000454|Furniture      |Hon Deluxe Fabric Upholstered Stacking Chairs, Rounded Back        |731.94     |NULL      |2025-06-08 22:15:44.532846|\n",
            "|US-2015-108966|11/10/2015 |SO-20335  |Consumer|United States|South  |FUR-TA-10000577|Furniture      |Bretford CR4500 Series Slim Rectangular Table                      |9.575.775  |5         |2025-06-08 22:15:44.532846|\n",
            "|US-2015-108966|11/10/2015 |SO-20335  |Consumer|United States|South  |OFF-ST-10000760|Office Supplies|Eldon Fold 'N Roll Cart System                                     |22.368     |2         |2025-06-08 22:15:44.532846|\n",
            "|CA-2014-115812|09/06/2014 |BH-11710  |Consumer|United States|West   |FUR-FU-10001487|Furniture      |Eldon Expressions Wood and Plastic Desk Accessories, Cherry Wood   |48.86      |7         |2025-06-08 22:15:44.532846|\n",
            "|CA-2014-115812|09/06/2014 |BH-11710  |Consumer|United States|West   |OFF-AR-10002833|Office Supplies|Newell 322                                                         |7.28       |4         |2025-06-08 22:15:44.532846|\n",
            "|CA-2014-115812|09/06/2014 |BH-11710  |Consumer|United States|West   |TEC-PH-10002275|Technology     |Mitel 5320 IP Phone VoIP phone                                     |907.152    |6         |2025-06-08 22:15:44.532846|\n",
            "|CA-2014-115812|09/06/2014 |BH-11710  |Consumer|United States|West   |OFF-BI-10003910|Office Supplies|DXL Angle-View Binders with Locking Rings by Samsill               |18.504     |3         |2025-06-08 22:15:44.532846|\n",
            "|CA-2014-115812|09/06/2014 |BH-11710  |Consumer|United States|West   |OFF-AP-10002892|Office Supplies|Belkin F5C206VTEL 6 Outlet Surge                                   |114.9      |5         |2025-06-08 22:15:44.532846|\n",
            "|CA-2014-115812|09/06/2014 |BH-11710  |Consumer|United States|West   |FUR-TA-10001539|Furniture      |Chromcraft Rectangular Conference Tables                           |1.706.184  |9         |2025-06-08 22:15:44.532846|\n",
            "|CA-2014-115812|09/06/2014 |BH-11710  |Consumer|United States|West   |TEC-PH-10002033|Technology     |Konftel 250 Conference phone - Charcoal black                      |911.424    |4         |2025-06-08 22:15:44.532846|\n",
            "|CA-2017-114412|15/04/2017 |AA-10480  |Consumer|United States|South  |OFF-PA-10002365|Office Supplies|Xerox 1967                                                         |15.552     |3         |2025-06-08 22:15:44.532846|\n",
            "|CA-2016-161389|05/12/2016 |IM-15070  |Consumer|United States|West   |OFF-BI-10003656|Office Supplies|Fellowes PB200 Plastic Comb Binding Machine                        |407.976    |3         |2025-06-08 22:15:44.532846|\n",
            "|CA-2014-105893|11/11/2014 |PK-19075  |Consumer|United States|Central|OFF-ST-10004186|Office Supplies|\"Stur-D-Stor Shelving, Vertical 5-Shelf: 72\"\"H x 36\"\"W x 18 1/2\"\"D\"|665.88     |6         |2025-06-08 22:15:44.532846|\n",
            "|CA-2014-167164|13/05/2014 |AG-10270  |Consumer|United States|West   |OFF-ST-10000107|Office Supplies|Fellowes Super Stor/Drawer                                         |55.5       |2         |2025-06-08 22:15:44.532846|\n",
            "|CA-2014-143336|27/08/2014 |ZD-21925  |Consumer|United States|West   |OFF-AR-10003056|Office Supplies|Newell 341                                                         |8.56       |2         |2025-06-08 22:15:44.532846|\n",
            "|CA-2014-143336|27/08/2014 |ZD-21925  |Consumer|United States|West   |TEC-PH-10001949|Technology     |Cisco SPA 501G IP Phone                                            |213.48     |3         |2025-06-08 22:15:44.532846|\n",
            "|CA-2014-143336|27/08/2014 |ZD-21925  |Consumer|United States|West   |OFF-BI-10002215|Office Supplies|Wilson Jones Hanging View Binder, White, 1\"\"                       |22.72      |4         |2025-06-08 22:15:44.532846|\n",
            "|US-2017-156909|16/07/2017 |SF-20065  |Consumer|United States|East   |FUR-CH-10002774|Furniture      |Global Deluxe Stacking Chair, Gray                                 |71.372     |2         |2025-06-08 22:15:44.532846|\n",
            "|CA-2015-106320|25/09/2015 |EB-13870  |Consumer|United States|West   |FUR-TA-10000577|Furniture      |Bretford CR4500 Series Slim Rectangular Table                      |1044.63    |3         |2025-06-08 22:15:44.532846|\n",
            "+--------------+-----------+----------+--------+-------------+-------+---------------+---------------+-------------------------------------------------------------------+-----------+----------+--------------------------+\n",
            "only showing top 20 rows\n",
            "\n"
          ]
        }
      ]
    },
    {
      "cell_type": "code",
      "source": [
        "#Mostrar total geral de linha no \"df_all\"\n",
        "df_all.count()"
      ],
      "metadata": {
        "colab": {
          "base_uri": "https://localhost:8080/"
        },
        "id": "7IDOhjUQZeyh",
        "outputId": "390f88eb-25d9-4920-9f86-18d46e617f84"
      },
      "execution_count": 181,
      "outputs": [
        {
          "output_type": "execute_result",
          "data": {
            "text/plain": [
              "9994"
            ]
          },
          "metadata": {},
          "execution_count": 181
        }
      ]
    },
    {
      "cell_type": "code",
      "source": [
        "df_all.show(truncate=False)"
      ],
      "metadata": {
        "colab": {
          "base_uri": "https://localhost:8080/"
        },
        "id": "Txr0FQeufqt8",
        "outputId": "c40566de-a149-47e3-effe-5ab4e9e51372"
      },
      "execution_count": 182,
      "outputs": [
        {
          "output_type": "stream",
          "name": "stdout",
          "text": [
            "+--------------+-----------+----------+--------+-------------+-------+---------------+---------------+-------------------------------------------------------------------+-----------+----------+--------------------------+\n",
            "|ID_Pedido     |Data_Pedido|ID_Cliente|Segmento|Pais         |Regiao |ID_Produto     |Categoria      |Nome_Produto                                                       |Valor_Venda|Quantidade|Dt_ingest                 |\n",
            "+--------------+-----------+----------+--------+-------------+-------+---------------+---------------+-------------------------------------------------------------------+-----------+----------+--------------------------+\n",
            "|CA-2016-152156|08/11/2016 |CG-12520  |Consumer|United States|South  |FUR-BO-10001798|Furniture      |Bush Somerset Collection Bookcase                                  |261.96     |NULL      |2025-06-08 22:15:45.255295|\n",
            "|CA-2016-152156|08/11/2016 |CG-12520  |Consumer|United States|South  |FUR-CH-10000454|Furniture      |Hon Deluxe Fabric Upholstered Stacking Chairs, Rounded Back        |731.94     |NULL      |2025-06-08 22:15:45.255295|\n",
            "|US-2015-108966|11/10/2015 |SO-20335  |Consumer|United States|South  |FUR-TA-10000577|Furniture      |Bretford CR4500 Series Slim Rectangular Table                      |9.575.775  |5         |2025-06-08 22:15:45.255295|\n",
            "|US-2015-108966|11/10/2015 |SO-20335  |Consumer|United States|South  |OFF-ST-10000760|Office Supplies|Eldon Fold 'N Roll Cart System                                     |22.368     |2         |2025-06-08 22:15:45.255295|\n",
            "|CA-2014-115812|09/06/2014 |BH-11710  |Consumer|United States|West   |FUR-FU-10001487|Furniture      |Eldon Expressions Wood and Plastic Desk Accessories, Cherry Wood   |48.86      |7         |2025-06-08 22:15:45.255295|\n",
            "|CA-2014-115812|09/06/2014 |BH-11710  |Consumer|United States|West   |OFF-AR-10002833|Office Supplies|Newell 322                                                         |7.28       |4         |2025-06-08 22:15:45.255295|\n",
            "|CA-2014-115812|09/06/2014 |BH-11710  |Consumer|United States|West   |TEC-PH-10002275|Technology     |Mitel 5320 IP Phone VoIP phone                                     |907.152    |6         |2025-06-08 22:15:45.255295|\n",
            "|CA-2014-115812|09/06/2014 |BH-11710  |Consumer|United States|West   |OFF-BI-10003910|Office Supplies|DXL Angle-View Binders with Locking Rings by Samsill               |18.504     |3         |2025-06-08 22:15:45.255295|\n",
            "|CA-2014-115812|09/06/2014 |BH-11710  |Consumer|United States|West   |OFF-AP-10002892|Office Supplies|Belkin F5C206VTEL 6 Outlet Surge                                   |114.9      |5         |2025-06-08 22:15:45.255295|\n",
            "|CA-2014-115812|09/06/2014 |BH-11710  |Consumer|United States|West   |FUR-TA-10001539|Furniture      |Chromcraft Rectangular Conference Tables                           |1.706.184  |9         |2025-06-08 22:15:45.255295|\n",
            "|CA-2014-115812|09/06/2014 |BH-11710  |Consumer|United States|West   |TEC-PH-10002033|Technology     |Konftel 250 Conference phone - Charcoal black                      |911.424    |4         |2025-06-08 22:15:45.255295|\n",
            "|CA-2017-114412|15/04/2017 |AA-10480  |Consumer|United States|South  |OFF-PA-10002365|Office Supplies|Xerox 1967                                                         |15.552     |3         |2025-06-08 22:15:45.255295|\n",
            "|CA-2016-161389|05/12/2016 |IM-15070  |Consumer|United States|West   |OFF-BI-10003656|Office Supplies|Fellowes PB200 Plastic Comb Binding Machine                        |407.976    |3         |2025-06-08 22:15:45.255295|\n",
            "|CA-2014-105893|11/11/2014 |PK-19075  |Consumer|United States|Central|OFF-ST-10004186|Office Supplies|\"Stur-D-Stor Shelving, Vertical 5-Shelf: 72\"\"H x 36\"\"W x 18 1/2\"\"D\"|665.88     |6         |2025-06-08 22:15:45.255295|\n",
            "|CA-2014-167164|13/05/2014 |AG-10270  |Consumer|United States|West   |OFF-ST-10000107|Office Supplies|Fellowes Super Stor/Drawer                                         |55.5       |2         |2025-06-08 22:15:45.255295|\n",
            "|CA-2014-143336|27/08/2014 |ZD-21925  |Consumer|United States|West   |OFF-AR-10003056|Office Supplies|Newell 341                                                         |8.56       |2         |2025-06-08 22:15:45.255295|\n",
            "|CA-2014-143336|27/08/2014 |ZD-21925  |Consumer|United States|West   |TEC-PH-10001949|Technology     |Cisco SPA 501G IP Phone                                            |213.48     |3         |2025-06-08 22:15:45.255295|\n",
            "|CA-2014-143336|27/08/2014 |ZD-21925  |Consumer|United States|West   |OFF-BI-10002215|Office Supplies|Wilson Jones Hanging View Binder, White, 1\"\"                       |22.72      |4         |2025-06-08 22:15:45.255295|\n",
            "|US-2017-156909|16/07/2017 |SF-20065  |Consumer|United States|East   |FUR-CH-10002774|Furniture      |Global Deluxe Stacking Chair, Gray                                 |71.372     |2         |2025-06-08 22:15:45.255295|\n",
            "|CA-2015-106320|25/09/2015 |EB-13870  |Consumer|United States|West   |FUR-TA-10000577|Furniture      |Bretford CR4500 Series Slim Rectangular Table                      |1044.63    |3         |2025-06-08 22:15:45.255295|\n",
            "+--------------+-----------+----------+--------+-------------+-------+---------------+---------------+-------------------------------------------------------------------+-----------+----------+--------------------------+\n",
            "only showing top 20 rows\n",
            "\n"
          ]
        }
      ]
    },
    {
      "cell_type": "code",
      "source": [
        "#Mostrar o schema dos dados:\n",
        "df_all.printSchema()"
      ],
      "metadata": {
        "colab": {
          "base_uri": "https://localhost:8080/"
        },
        "id": "nRTobLx6f4KS",
        "outputId": "b15e24a3-e3d6-47a6-dae5-9b2f7412bbbb"
      },
      "execution_count": 183,
      "outputs": [
        {
          "output_type": "stream",
          "name": "stdout",
          "text": [
            "root\n",
            " |-- ID_Pedido: string (nullable = true)\n",
            " |-- Data_Pedido: string (nullable = true)\n",
            " |-- ID_Cliente: string (nullable = true)\n",
            " |-- Segmento: string (nullable = true)\n",
            " |-- Pais: string (nullable = true)\n",
            " |-- Regiao: string (nullable = true)\n",
            " |-- ID_Produto: string (nullable = true)\n",
            " |-- Categoria: string (nullable = true)\n",
            " |-- Nome_Produto: string (nullable = true)\n",
            " |-- Valor_Venda: string (nullable = true)\n",
            " |-- Quantidade: integer (nullable = true)\n",
            " |-- Dt_ingest: timestamp (nullable = false)\n",
            "\n"
          ]
        }
      ]
    },
    {
      "cell_type": "code",
      "source": [
        "# Converte coluna \"Valor_Venda\" para integer\n",
        "from pyspark.sql.types import DoubleType\n",
        "df_all = df_all.withColumn(\"Valor_Venda\", df_all[\"Valor_Venda\"].cast(DoubleType()))"
      ],
      "metadata": {
        "id": "3LpUkQNFgEfy"
      },
      "execution_count": 184,
      "outputs": []
    },
    {
      "cell_type": "code",
      "source": [
        "df_all.printSchema()"
      ],
      "metadata": {
        "colab": {
          "base_uri": "https://localhost:8080/"
        },
        "id": "Pd2gf6tLgNjr",
        "outputId": "b3080fd4-83cb-4d69-b6a9-97faf5413e7a"
      },
      "execution_count": 185,
      "outputs": [
        {
          "output_type": "stream",
          "name": "stdout",
          "text": [
            "root\n",
            " |-- ID_Pedido: string (nullable = true)\n",
            " |-- Data_Pedido: string (nullable = true)\n",
            " |-- ID_Cliente: string (nullable = true)\n",
            " |-- Segmento: string (nullable = true)\n",
            " |-- Pais: string (nullable = true)\n",
            " |-- Regiao: string (nullable = true)\n",
            " |-- ID_Produto: string (nullable = true)\n",
            " |-- Categoria: string (nullable = true)\n",
            " |-- Nome_Produto: string (nullable = true)\n",
            " |-- Valor_Venda: double (nullable = true)\n",
            " |-- Quantidade: integer (nullable = true)\n",
            " |-- Dt_ingest: timestamp (nullable = false)\n",
            "\n"
          ]
        }
      ]
    },
    {
      "cell_type": "code",
      "source": [
        "# Criar uma coluna chamada \"Valor_Total_Vendas\" que é \"Valor_Venda\" *\n",
        "# \"Quantidade\" %% Gerar um excel com nome \"Dados_Unidos\" com a data de hoje no\n",
        "df_all = df_all.withColumn(\"Valor_Total_Vendas\", df_all[\"Valor_Venda\"] * df_all[\"Quantidade\"])"
      ],
      "metadata": {
        "id": "BBiPtggJfbjz"
      },
      "execution_count": 186,
      "outputs": []
    },
    {
      "cell_type": "code",
      "source": [
        "#Gerar um excel com nome \"Dados_Unidos\" com a data de hoje no nome\n",
        "import datetime\n",
        "data_hoje = datetime.date.today()"
      ],
      "metadata": {
        "id": "j9jruieqZ3Wc"
      },
      "execution_count": 187,
      "outputs": []
    },
    {
      "cell_type": "code",
      "source": [
        "# Criar uma coluna nova chamada \"Fleg_cisco\" quando encontrar o valor\n",
        "# \"Nome_Produto\" %Cisco% preecher a coluna \"Fleg_cisco\" com \"1\"\n",
        "from pyspark.sql.functions import when, col\n",
        "df_all = df_all.withColumn(\"Flag_cisco\", when(col(\"Nome_Produto\").like(\"%Cisco%\"), 1).otherwise(0))\n",
        "df_all = df_all.withColumn(\"Flag_Bush\", when(col(\"Nome_Produto\").like(\"%Bush%\"), 1).otherwise(0))\n",
        "\n",
        "df_all.show()"
      ],
      "metadata": {
        "colab": {
          "base_uri": "https://localhost:8080/"
        },
        "id": "AN7zBNYnh8is",
        "outputId": "83eb9b1c-6be5-4f6d-8a04-0f024ff72523"
      },
      "execution_count": 188,
      "outputs": [
        {
          "output_type": "stream",
          "name": "stdout",
          "text": [
            "+--------------+-----------+----------+--------+-------------+-------+---------------+---------------+--------------------+-----------+----------+--------------------+------------------+----------+---------+\n",
            "|     ID_Pedido|Data_Pedido|ID_Cliente|Segmento|         Pais| Regiao|     ID_Produto|      Categoria|        Nome_Produto|Valor_Venda|Quantidade|           Dt_ingest|Valor_Total_Vendas|Flag_cisco|Flag_Bush|\n",
            "+--------------+-----------+----------+--------+-------------+-------+---------------+---------------+--------------------+-----------+----------+--------------------+------------------+----------+---------+\n",
            "|CA-2016-152156| 08/11/2016|  CG-12520|Consumer|United States|  South|FUR-BO-10001798|      Furniture|Bush Somerset Col...|     261.96|      NULL|2025-06-08 22:15:...|              NULL|         0|        0|\n",
            "|CA-2016-152156| 08/11/2016|  CG-12520|Consumer|United States|  South|FUR-CH-10000454|      Furniture|Hon Deluxe Fabric...|     731.94|      NULL|2025-06-08 22:15:...|              NULL|         0|        1|\n",
            "|US-2015-108966| 11/10/2015|  SO-20335|Consumer|United States|  South|FUR-TA-10000577|      Furniture|Bretford CR4500 S...|       NULL|         5|2025-06-08 22:15:...|              NULL|         0|        0|\n",
            "|US-2015-108966| 11/10/2015|  SO-20335|Consumer|United States|  South|OFF-ST-10000760|Office Supplies|Eldon Fold 'N Rol...|     22.368|         2|2025-06-08 22:15:...|            44.736|         0|        0|\n",
            "|CA-2014-115812| 09/06/2014|  BH-11710|Consumer|United States|   West|FUR-FU-10001487|      Furniture|Eldon Expressions...|      48.86|         7|2025-06-08 22:15:...|            342.02|         0|        0|\n",
            "|CA-2014-115812| 09/06/2014|  BH-11710|Consumer|United States|   West|OFF-AR-10002833|Office Supplies|          Newell 322|       7.28|         4|2025-06-08 22:15:...|             29.12|         0|        0|\n",
            "|CA-2014-115812| 09/06/2014|  BH-11710|Consumer|United States|   West|TEC-PH-10002275|     Technology|Mitel 5320 IP Pho...|    907.152|         6|2025-06-08 22:15:...|          5442.912|         0|        0|\n",
            "|CA-2014-115812| 09/06/2014|  BH-11710|Consumer|United States|   West|OFF-BI-10003910|Office Supplies|DXL Angle-View Bi...|     18.504|         3|2025-06-08 22:15:...|            55.512|         0|        0|\n",
            "|CA-2014-115812| 09/06/2014|  BH-11710|Consumer|United States|   West|OFF-AP-10002892|Office Supplies|Belkin F5C206VTEL...|      114.9|         5|2025-06-08 22:15:...|             574.5|         0|        0|\n",
            "|CA-2014-115812| 09/06/2014|  BH-11710|Consumer|United States|   West|FUR-TA-10001539|      Furniture|Chromcraft Rectan...|       NULL|         9|2025-06-08 22:15:...|              NULL|         0|        0|\n",
            "|CA-2014-115812| 09/06/2014|  BH-11710|Consumer|United States|   West|TEC-PH-10002033|     Technology|Konftel 250 Confe...|    911.424|         4|2025-06-08 22:15:...|          3645.696|         0|        0|\n",
            "|CA-2017-114412| 15/04/2017|  AA-10480|Consumer|United States|  South|OFF-PA-10002365|Office Supplies|          Xerox 1967|     15.552|         3|2025-06-08 22:15:...|            46.656|         0|        0|\n",
            "|CA-2016-161389| 05/12/2016|  IM-15070|Consumer|United States|   West|OFF-BI-10003656|Office Supplies|Fellowes PB200 Pl...|    407.976|         3|2025-06-08 22:15:...|1223.9279999999999|         0|        0|\n",
            "|CA-2014-105893| 11/11/2014|  PK-19075|Consumer|United States|Central|OFF-ST-10004186|Office Supplies|\"Stur-D-Stor Shel...|     665.88|         6|2025-06-08 22:15:...|3995.2799999999997|         0|        0|\n",
            "|CA-2014-167164| 13/05/2014|  AG-10270|Consumer|United States|   West|OFF-ST-10000107|Office Supplies|Fellowes Super St...|       55.5|         2|2025-06-08 22:15:...|             111.0|         0|        0|\n",
            "|CA-2014-143336| 27/08/2014|  ZD-21925|Consumer|United States|   West|OFF-AR-10003056|Office Supplies|          Newell 341|       8.56|         2|2025-06-08 22:15:...|             17.12|         0|        0|\n",
            "|CA-2014-143336| 27/08/2014|  ZD-21925|Consumer|United States|   West|TEC-PH-10001949|     Technology|Cisco SPA 501G IP...|     213.48|         3|2025-06-08 22:15:...| 640.4399999999999|         1|        0|\n",
            "|CA-2014-143336| 27/08/2014|  ZD-21925|Consumer|United States|   West|OFF-BI-10002215|Office Supplies|Wilson Jones Hang...|      22.72|         4|2025-06-08 22:15:...|             90.88|         0|        0|\n",
            "|US-2017-156909| 16/07/2017|  SF-20065|Consumer|United States|   East|FUR-CH-10002774|      Furniture|Global Deluxe Sta...|     71.372|         2|2025-06-08 22:15:...|           142.744|         0|        1|\n",
            "|CA-2015-106320| 25/09/2015|  EB-13870|Consumer|United States|   West|FUR-TA-10000577|      Furniture|Bretford CR4500 S...|    1044.63|         3|2025-06-08 22:15:...|3133.8900000000003|         0|        0|\n",
            "+--------------+-----------+----------+--------+-------------+-------+---------------+---------------+--------------------+-----------+----------+--------------------+------------------+----------+---------+\n",
            "only showing top 20 rows\n",
            "\n"
          ]
        }
      ]
    },
    {
      "cell_type": "code",
      "source": [
        "df_all.show(truncate=False)"
      ],
      "metadata": {
        "colab": {
          "base_uri": "https://localhost:8080/"
        },
        "id": "mC7BuvK6iYiK",
        "outputId": "4cfae1a7-8758-4090-f572-c5427fe24833"
      },
      "execution_count": 189,
      "outputs": [
        {
          "output_type": "stream",
          "name": "stdout",
          "text": [
            "+--------------+-----------+----------+--------+-------------+-------+---------------+---------------+-------------------------------------------------------------------+-----------+----------+--------------------------+------------------+----------+---------+\n",
            "|ID_Pedido     |Data_Pedido|ID_Cliente|Segmento|Pais         |Regiao |ID_Produto     |Categoria      |Nome_Produto                                                       |Valor_Venda|Quantidade|Dt_ingest                 |Valor_Total_Vendas|Flag_cisco|Flag_Bush|\n",
            "+--------------+-----------+----------+--------+-------------+-------+---------------+---------------+-------------------------------------------------------------------+-----------+----------+--------------------------+------------------+----------+---------+\n",
            "|CA-2016-152156|08/11/2016 |CG-12520  |Consumer|United States|South  |FUR-BO-10001798|Furniture      |Bush Somerset Collection Bookcase                                  |261.96     |NULL      |2025-06-08 22:15:46.248413|NULL              |0         |0        |\n",
            "|CA-2016-152156|08/11/2016 |CG-12520  |Consumer|United States|South  |FUR-CH-10000454|Furniture      |Hon Deluxe Fabric Upholstered Stacking Chairs, Rounded Back        |731.94     |NULL      |2025-06-08 22:15:46.248413|NULL              |0         |1        |\n",
            "|US-2015-108966|11/10/2015 |SO-20335  |Consumer|United States|South  |FUR-TA-10000577|Furniture      |Bretford CR4500 Series Slim Rectangular Table                      |NULL       |5         |2025-06-08 22:15:46.248413|NULL              |0         |0        |\n",
            "|US-2015-108966|11/10/2015 |SO-20335  |Consumer|United States|South  |OFF-ST-10000760|Office Supplies|Eldon Fold 'N Roll Cart System                                     |22.368     |2         |2025-06-08 22:15:46.248413|44.736            |0         |0        |\n",
            "|CA-2014-115812|09/06/2014 |BH-11710  |Consumer|United States|West   |FUR-FU-10001487|Furniture      |Eldon Expressions Wood and Plastic Desk Accessories, Cherry Wood   |48.86      |7         |2025-06-08 22:15:46.248413|342.02            |0         |0        |\n",
            "|CA-2014-115812|09/06/2014 |BH-11710  |Consumer|United States|West   |OFF-AR-10002833|Office Supplies|Newell 322                                                         |7.28       |4         |2025-06-08 22:15:46.248413|29.12             |0         |0        |\n",
            "|CA-2014-115812|09/06/2014 |BH-11710  |Consumer|United States|West   |TEC-PH-10002275|Technology     |Mitel 5320 IP Phone VoIP phone                                     |907.152    |6         |2025-06-08 22:15:46.248413|5442.912          |0         |0        |\n",
            "|CA-2014-115812|09/06/2014 |BH-11710  |Consumer|United States|West   |OFF-BI-10003910|Office Supplies|DXL Angle-View Binders with Locking Rings by Samsill               |18.504     |3         |2025-06-08 22:15:46.248413|55.512            |0         |0        |\n",
            "|CA-2014-115812|09/06/2014 |BH-11710  |Consumer|United States|West   |OFF-AP-10002892|Office Supplies|Belkin F5C206VTEL 6 Outlet Surge                                   |114.9      |5         |2025-06-08 22:15:46.248413|574.5             |0         |0        |\n",
            "|CA-2014-115812|09/06/2014 |BH-11710  |Consumer|United States|West   |FUR-TA-10001539|Furniture      |Chromcraft Rectangular Conference Tables                           |NULL       |9         |2025-06-08 22:15:46.248413|NULL              |0         |0        |\n",
            "|CA-2014-115812|09/06/2014 |BH-11710  |Consumer|United States|West   |TEC-PH-10002033|Technology     |Konftel 250 Conference phone - Charcoal black                      |911.424    |4         |2025-06-08 22:15:46.248413|3645.696          |0         |0        |\n",
            "|CA-2017-114412|15/04/2017 |AA-10480  |Consumer|United States|South  |OFF-PA-10002365|Office Supplies|Xerox 1967                                                         |15.552     |3         |2025-06-08 22:15:46.248413|46.656            |0         |0        |\n",
            "|CA-2016-161389|05/12/2016 |IM-15070  |Consumer|United States|West   |OFF-BI-10003656|Office Supplies|Fellowes PB200 Plastic Comb Binding Machine                        |407.976    |3         |2025-06-08 22:15:46.248413|1223.9279999999999|0         |0        |\n",
            "|CA-2014-105893|11/11/2014 |PK-19075  |Consumer|United States|Central|OFF-ST-10004186|Office Supplies|\"Stur-D-Stor Shelving, Vertical 5-Shelf: 72\"\"H x 36\"\"W x 18 1/2\"\"D\"|665.88     |6         |2025-06-08 22:15:46.248413|3995.2799999999997|0         |0        |\n",
            "|CA-2014-167164|13/05/2014 |AG-10270  |Consumer|United States|West   |OFF-ST-10000107|Office Supplies|Fellowes Super Stor/Drawer                                         |55.5       |2         |2025-06-08 22:15:46.248413|111.0             |0         |0        |\n",
            "|CA-2014-143336|27/08/2014 |ZD-21925  |Consumer|United States|West   |OFF-AR-10003056|Office Supplies|Newell 341                                                         |8.56       |2         |2025-06-08 22:15:46.248413|17.12             |0         |0        |\n",
            "|CA-2014-143336|27/08/2014 |ZD-21925  |Consumer|United States|West   |TEC-PH-10001949|Technology     |Cisco SPA 501G IP Phone                                            |213.48     |3         |2025-06-08 22:15:46.248413|640.4399999999999 |1         |0        |\n",
            "|CA-2014-143336|27/08/2014 |ZD-21925  |Consumer|United States|West   |OFF-BI-10002215|Office Supplies|Wilson Jones Hanging View Binder, White, 1\"\"                       |22.72      |4         |2025-06-08 22:15:46.248413|90.88             |0         |0        |\n",
            "|US-2017-156909|16/07/2017 |SF-20065  |Consumer|United States|East   |FUR-CH-10002774|Furniture      |Global Deluxe Stacking Chair, Gray                                 |71.372     |2         |2025-06-08 22:15:46.248413|142.744           |0         |1        |\n",
            "|CA-2015-106320|25/09/2015 |EB-13870  |Consumer|United States|West   |FUR-TA-10000577|Furniture      |Bretford CR4500 Series Slim Rectangular Table                      |1044.63    |3         |2025-06-08 22:15:46.248413|3133.8900000000003|0         |0        |\n",
            "+--------------+-----------+----------+--------+-------------+-------+---------------+---------------+-------------------------------------------------------------------+-----------+----------+--------------------------+------------------+----------+---------+\n",
            "only showing top 20 rows\n",
            "\n"
          ]
        }
      ]
    },
    {
      "cell_type": "code",
      "source": [
        "data_hoje = data_hoje.strftime(\"%d-%m-%Y\")"
      ],
      "metadata": {
        "id": "RRRsLFTWaCQs"
      },
      "execution_count": 190,
      "outputs": []
    },
    {
      "cell_type": "code",
      "source": [
        "print(data_hoje)"
      ],
      "metadata": {
        "colab": {
          "base_uri": "https://localhost:8080/"
        },
        "id": "6M1myXLiaE3D",
        "outputId": "dcfefa9e-d242-407d-f9b1-05a11510468b"
      },
      "execution_count": 191,
      "outputs": [
        {
          "output_type": "stream",
          "name": "stdout",
          "text": [
            "08-06-2025\n"
          ]
        }
      ]
    },
    {
      "cell_type": "code",
      "source": [
        "#Exportar \"df_all\" para o excel\n",
        "df_all.toPandas().to_excel(f'Dados_Unidos_{data_hoje}.xlsx')\n",
        "print(f\"Dados exportados com êxito 'Dados_Unidos_{data_hoje}.xlsx'\")"
      ],
      "metadata": {
        "colab": {
          "base_uri": "https://localhost:8080/"
        },
        "id": "oWNmwYfga19k",
        "outputId": "0d1fe26b-2805-4783-f960-060f9d0b3dc8"
      },
      "execution_count": 192,
      "outputs": [
        {
          "output_type": "stream",
          "name": "stdout",
          "text": [
            "Dados exportados com êxito 'Dados_Unidos_08-06-2025.xlsx'\n"
          ]
        }
      ]
    }
  ]
}