{
  "nbformat": 4,
  "nbformat_minor": 0,
  "metadata": {
    "colab": {
      "provenance": [],
      "mount_file_id": "1iDuTHk_5qKeD-Z8-lk5e0KTR1NdGz7Gy",
      "authorship_tag": "ABX9TyNu59c+F+tug04VgKCw1WhW",
      "include_colab_link": true
    },
    "kernelspec": {
      "name": "python3",
      "display_name": "Python 3"
    },
    "language_info": {
      "name": "python"
    }
  },
  "cells": [
    {
      "cell_type": "markdown",
      "metadata": {
        "id": "view-in-github",
        "colab_type": "text"
      },
      "source": [
        "<a href=\"https://colab.research.google.com/github/WILLIANSCASACOLA/Listar_Arquivos_python/blob/main/Spark_mao_no_codigo.ipynb\" target=\"_parent\"><img src=\"https://colab.research.google.com/assets/colab-badge.svg\" alt=\"Open In Colab\"/></a>"
      ]
    },
    {
      "cell_type": "code",
      "source": [
        "#Instalar o java\n",
        "!apt-get install openjdk-8-jdk-headless -qq > /dev/null\n",
        "!pip uninstall pyspark -y\n",
        "!pip install pyspark==3.1.2"
      ],
      "metadata": {
        "colab": {
          "base_uri": "https://localhost:8080/",
          "height": 287
        },
        "id": "Azh75nE8zwKG",
        "outputId": "31514faf-8d21-4828-baf1-5a6d6971ff1d"
      },
      "execution_count": 71,
      "outputs": [
        {
          "output_type": "stream",
          "name": "stdout",
          "text": [
            "Found existing installation: pyspark 3.1.2\n",
            "Uninstalling pyspark-3.1.2:\n",
            "  Successfully uninstalled pyspark-3.1.2\n",
            "Collecting pyspark==3.1.2\n",
            "  Using cached pyspark-3.1.2-py2.py3-none-any.whl\n",
            "Requirement already satisfied: py4j==0.10.9 in /usr/local/lib/python3.11/dist-packages (from pyspark==3.1.2) (0.10.9)\n",
            "Installing collected packages: pyspark\n",
            "\u001b[31mERROR: pip's dependency resolver does not currently take into account all the packages that are installed. This behaviour is the source of the following dependency conflicts.\n",
            "dataproc-spark-connect 0.7.5 requires pyspark[connect]~=3.5.1, but you have pyspark 3.1.2 which is incompatible.\u001b[0m\u001b[31m\n",
            "\u001b[0mSuccessfully installed pyspark-3.1.2\n"
          ]
        },
        {
          "output_type": "display_data",
          "data": {
            "application/vnd.colab-display-data+json": {
              "pip_warning": {
                "packages": [
                  "pyspark"
                ]
              },
              "id": "9e6d8afa0faf41688d673fca4077b8e3"
            }
          },
          "metadata": {}
        }
      ]
    },
    {
      "cell_type": "code",
      "source": [
        "#Baixar a versão mais recente do spark\n",
        "!wget -q https://archive.apache.org/dist/spark/spark-3.1.2/spark-3.1.2-bin-hadoop2.7.tgz"
      ],
      "metadata": {
        "id": "rBP610Fo0Ab6"
      },
      "execution_count": 1,
      "outputs": []
    },
    {
      "cell_type": "code",
      "source": [
        "#Deszipar o spark\n",
        "!tar xf /content/spark-3.1.2-bin-hadoop2.7.tgz"
      ],
      "metadata": {
        "id": "TFYpmAKq0f4O"
      },
      "execution_count": 2,
      "outputs": []
    },
    {
      "cell_type": "code",
      "source": [
        "#Criar varoáveis de ambiente\n",
        "import os\n",
        "os.environ[\"JAVA_HOME\"] = \"/usr/lib/jvm/java-8-openjdk-amd64\"\n",
        "os.environ[\"SPARK_HOME\"] = \"/content/spark-3.1.2-bin-hadoop2.7\"\n"
      ],
      "metadata": {
        "id": "2-NN9kpf0reo"
      },
      "execution_count": 3,
      "outputs": []
    },
    {
      "cell_type": "code",
      "source": [
        "# Instalar a lib findspark que ajuda a localizar o Spark no sistema e\n",
        "# importá-lo como uma biblioteca regular\n",
        "!pip install -q findspark"
      ],
      "metadata": {
        "id": "kLqi7K7n1LV4"
      },
      "execution_count": 4,
      "outputs": []
    },
    {
      "cell_type": "code",
      "source": [
        "import findspark\n",
        "findspark.init()"
      ],
      "metadata": {
        "id": "RVTQaw3k31eu"
      },
      "execution_count": 5,
      "outputs": []
    },
    {
      "cell_type": "code",
      "source": [
        "#Criar spark session\n",
        "from pyspark.sql import SparkSession\n",
        "\n",
        "spark = SparkSession.builder\\\n",
        "        .master(\"local[*]\")\\\n",
        "        .appName(\"sparkColab\")\\\n",
        "        .getOrCreate()"
      ],
      "metadata": {
        "id": "XXYzCN_011o8"
      },
      "execution_count": 6,
      "outputs": []
    },
    {
      "cell_type": "code",
      "source": [
        "#Importar o dataset\n",
        "from google.colab import files\n",
        "arquivo = files.upload()"
      ],
      "metadata": {
        "colab": {
          "base_uri": "https://localhost:8080/",
          "height": 38
        },
        "id": "bWesEElH5-bQ",
        "outputId": "b2f63f82-6c47-48d8-a727-65f5f420287b"
      },
      "execution_count": 7,
      "outputs": [
        {
          "output_type": "display_data",
          "data": {
            "text/plain": [
              "<IPython.core.display.HTML object>"
            ],
            "text/html": [
              "\n",
              "     <input type=\"file\" id=\"files-78b11468-ba39-499c-8033-d72021bf716e\" name=\"files[]\" multiple disabled\n",
              "        style=\"border:none\" />\n",
              "     <output id=\"result-78b11468-ba39-499c-8033-d72021bf716e\">\n",
              "      Upload widget is only available when the cell has been executed in the\n",
              "      current browser session. Please rerun this cell to enable.\n",
              "      </output>\n",
              "      <script>// Copyright 2017 Google LLC\n",
              "//\n",
              "// Licensed under the Apache License, Version 2.0 (the \"License\");\n",
              "// you may not use this file except in compliance with the License.\n",
              "// You may obtain a copy of the License at\n",
              "//\n",
              "//      http://www.apache.org/licenses/LICENSE-2.0\n",
              "//\n",
              "// Unless required by applicable law or agreed to in writing, software\n",
              "// distributed under the License is distributed on an \"AS IS\" BASIS,\n",
              "// WITHOUT WARRANTIES OR CONDITIONS OF ANY KIND, either express or implied.\n",
              "// See the License for the specific language governing permissions and\n",
              "// limitations under the License.\n",
              "\n",
              "/**\n",
              " * @fileoverview Helpers for google.colab Python module.\n",
              " */\n",
              "(function(scope) {\n",
              "function span(text, styleAttributes = {}) {\n",
              "  const element = document.createElement('span');\n",
              "  element.textContent = text;\n",
              "  for (const key of Object.keys(styleAttributes)) {\n",
              "    element.style[key] = styleAttributes[key];\n",
              "  }\n",
              "  return element;\n",
              "}\n",
              "\n",
              "// Max number of bytes which will be uploaded at a time.\n",
              "const MAX_PAYLOAD_SIZE = 100 * 1024;\n",
              "\n",
              "function _uploadFiles(inputId, outputId) {\n",
              "  const steps = uploadFilesStep(inputId, outputId);\n",
              "  const outputElement = document.getElementById(outputId);\n",
              "  // Cache steps on the outputElement to make it available for the next call\n",
              "  // to uploadFilesContinue from Python.\n",
              "  outputElement.steps = steps;\n",
              "\n",
              "  return _uploadFilesContinue(outputId);\n",
              "}\n",
              "\n",
              "// This is roughly an async generator (not supported in the browser yet),\n",
              "// where there are multiple asynchronous steps and the Python side is going\n",
              "// to poll for completion of each step.\n",
              "// This uses a Promise to block the python side on completion of each step,\n",
              "// then passes the result of the previous step as the input to the next step.\n",
              "function _uploadFilesContinue(outputId) {\n",
              "  const outputElement = document.getElementById(outputId);\n",
              "  const steps = outputElement.steps;\n",
              "\n",
              "  const next = steps.next(outputElement.lastPromiseValue);\n",
              "  return Promise.resolve(next.value.promise).then((value) => {\n",
              "    // Cache the last promise value to make it available to the next\n",
              "    // step of the generator.\n",
              "    outputElement.lastPromiseValue = value;\n",
              "    return next.value.response;\n",
              "  });\n",
              "}\n",
              "\n",
              "/**\n",
              " * Generator function which is called between each async step of the upload\n",
              " * process.\n",
              " * @param {string} inputId Element ID of the input file picker element.\n",
              " * @param {string} outputId Element ID of the output display.\n",
              " * @return {!Iterable<!Object>} Iterable of next steps.\n",
              " */\n",
              "function* uploadFilesStep(inputId, outputId) {\n",
              "  const inputElement = document.getElementById(inputId);\n",
              "  inputElement.disabled = false;\n",
              "\n",
              "  const outputElement = document.getElementById(outputId);\n",
              "  outputElement.innerHTML = '';\n",
              "\n",
              "  const pickedPromise = new Promise((resolve) => {\n",
              "    inputElement.addEventListener('change', (e) => {\n",
              "      resolve(e.target.files);\n",
              "    });\n",
              "  });\n",
              "\n",
              "  const cancel = document.createElement('button');\n",
              "  inputElement.parentElement.appendChild(cancel);\n",
              "  cancel.textContent = 'Cancel upload';\n",
              "  const cancelPromise = new Promise((resolve) => {\n",
              "    cancel.onclick = () => {\n",
              "      resolve(null);\n",
              "    };\n",
              "  });\n",
              "\n",
              "  // Wait for the user to pick the files.\n",
              "  const files = yield {\n",
              "    promise: Promise.race([pickedPromise, cancelPromise]),\n",
              "    response: {\n",
              "      action: 'starting',\n",
              "    }\n",
              "  };\n",
              "\n",
              "  cancel.remove();\n",
              "\n",
              "  // Disable the input element since further picks are not allowed.\n",
              "  inputElement.disabled = true;\n",
              "\n",
              "  if (!files) {\n",
              "    return {\n",
              "      response: {\n",
              "        action: 'complete',\n",
              "      }\n",
              "    };\n",
              "  }\n",
              "\n",
              "  for (const file of files) {\n",
              "    const li = document.createElement('li');\n",
              "    li.append(span(file.name, {fontWeight: 'bold'}));\n",
              "    li.append(span(\n",
              "        `(${file.type || 'n/a'}) - ${file.size} bytes, ` +\n",
              "        `last modified: ${\n",
              "            file.lastModifiedDate ? file.lastModifiedDate.toLocaleDateString() :\n",
              "                                    'n/a'} - `));\n",
              "    const percent = span('0% done');\n",
              "    li.appendChild(percent);\n",
              "\n",
              "    outputElement.appendChild(li);\n",
              "\n",
              "    const fileDataPromise = new Promise((resolve) => {\n",
              "      const reader = new FileReader();\n",
              "      reader.onload = (e) => {\n",
              "        resolve(e.target.result);\n",
              "      };\n",
              "      reader.readAsArrayBuffer(file);\n",
              "    });\n",
              "    // Wait for the data to be ready.\n",
              "    let fileData = yield {\n",
              "      promise: fileDataPromise,\n",
              "      response: {\n",
              "        action: 'continue',\n",
              "      }\n",
              "    };\n",
              "\n",
              "    // Use a chunked sending to avoid message size limits. See b/62115660.\n",
              "    let position = 0;\n",
              "    do {\n",
              "      const length = Math.min(fileData.byteLength - position, MAX_PAYLOAD_SIZE);\n",
              "      const chunk = new Uint8Array(fileData, position, length);\n",
              "      position += length;\n",
              "\n",
              "      const base64 = btoa(String.fromCharCode.apply(null, chunk));\n",
              "      yield {\n",
              "        response: {\n",
              "          action: 'append',\n",
              "          file: file.name,\n",
              "          data: base64,\n",
              "        },\n",
              "      };\n",
              "\n",
              "      let percentDone = fileData.byteLength === 0 ?\n",
              "          100 :\n",
              "          Math.round((position / fileData.byteLength) * 100);\n",
              "      percent.textContent = `${percentDone}% done`;\n",
              "\n",
              "    } while (position < fileData.byteLength);\n",
              "  }\n",
              "\n",
              "  // All done.\n",
              "  yield {\n",
              "    response: {\n",
              "      action: 'complete',\n",
              "    }\n",
              "  };\n",
              "}\n",
              "\n",
              "scope.google = scope.google || {};\n",
              "scope.google.colab = scope.google.colab || {};\n",
              "scope.google.colab._files = {\n",
              "  _uploadFiles,\n",
              "  _uploadFilesContinue,\n",
              "};\n",
              "})(self);\n",
              "</script> "
            ]
          },
          "metadata": {}
        }
      ]
    },
    {
      "cell_type": "code",
      "source": [
        "#Criar datafreme\n",
        "df = spark.read.csv(\"dataset.csv\", header=True, inferSchema=True)"
      ],
      "metadata": {
        "id": "BsQeV_QZ7gNV"
      },
      "execution_count": 8,
      "outputs": []
    },
    {
      "cell_type": "code",
      "source": [
        "#Mostrar os tipos dos dados\n",
        "df.printSchema()"
      ],
      "metadata": {
        "colab": {
          "base_uri": "https://localhost:8080/"
        },
        "id": "6wPtjGap7wE6",
        "outputId": "d3e94fa4-442d-4225-fe2f-d05ab2822478"
      },
      "execution_count": 9,
      "outputs": [
        {
          "output_type": "stream",
          "name": "stdout",
          "text": [
            "root\n",
            " |-- ID_Pedido: string (nullable = true)\n",
            " |-- Data_Pedido: string (nullable = true)\n",
            " |-- ID_Cliente: string (nullable = true)\n",
            " |-- Segmento: string (nullable = true)\n",
            " |-- Pais: string (nullable = true)\n",
            " |-- Regiao: string (nullable = true)\n",
            " |-- ID_Produto: string (nullable = true)\n",
            " |-- Categoria: string (nullable = true)\n",
            " |-- Nome_Produto: string (nullable = true)\n",
            " |-- Valor_Venda: string (nullable = true)\n",
            " |-- Quantidade: string (nullable = true)\n",
            "\n"
          ]
        }
      ]
    },
    {
      "cell_type": "code",
      "source": [
        "#Mostrar os dados do df\n",
        "df.show()"
      ],
      "metadata": {
        "colab": {
          "base_uri": "https://localhost:8080/"
        },
        "id": "s_Gwd7jo8Nzp",
        "outputId": "9d588ec9-03f2-4194-bca4-7330c03e392f"
      },
      "execution_count": 10,
      "outputs": [
        {
          "output_type": "stream",
          "name": "stdout",
          "text": [
            "+--------------+-----------+----------+-----------+-------------+-------+---------------+---------------+--------------------+-----------+----------+\n",
            "|     ID_Pedido|Data_Pedido|ID_Cliente|   Segmento|         Pais| Regiao|     ID_Produto|      Categoria|        Nome_Produto|Valor_Venda|Quantidade|\n",
            "+--------------+-----------+----------+-----------+-------------+-------+---------------+---------------+--------------------+-----------+----------+\n",
            "|CA-2016-152156| 2016-11-08|  CG-12520|   Consumer|United States|  South|FUR-BO-10001798|      Furniture|Bush Somerset Col...|     261.96|      null|\n",
            "|CA-2016-152156| 2016-11-08|  CG-12520|   Consumer|United States|  South|FUR-CH-10000454|      Furniture|Hon Deluxe Fabric...|     731.94|      null|\n",
            "|CA-2016-138688| 2016-06-12|  DV-13045|  Corporate|United States|   West|OFF-LA-10000240|Office Supplies|Self-Adhesive Add...|      14.62|         2|\n",
            "|US-2015-108966| 2015-10-11|  SO-20335|   Consumer|United States|  South|FUR-TA-10000577|      Furniture|Bretford CR4500 S...|   957.5775|         5|\n",
            "|US-2015-108966| 2015-10-11|  SO-20335|   Consumer|United States|  South|OFF-ST-10000760|Office Supplies|Eldon Fold 'N Rol...|     22.368|         2|\n",
            "|CA-2014-115812| 2014-06-09|  BH-11710|   Consumer|United States|   West|FUR-FU-10001487|      Furniture|Eldon Expressions...|      48.86|         7|\n",
            "|CA-2014-115812| 2014-06-09|  BH-11710|   Consumer|United States|   West|OFF-AR-10002833|Office Supplies|          Newell 322|       7.28|         4|\n",
            "|CA-2014-115812| 2014-06-09|  BH-11710|   Consumer|United States|   West|TEC-PH-10002275|     Technology|Mitel 5320 IP Pho...|    907.152|         6|\n",
            "|CA-2014-115812| 2014-06-09|  BH-11710|   Consumer|United States|   West|OFF-BI-10003910|Office Supplies|DXL Angle-View Bi...|     18.504|         3|\n",
            "|CA-2014-115812| 2014-06-09|  BH-11710|   Consumer|United States|   West|OFF-AP-10002892|Office Supplies|Belkin F5C206VTEL...|      114.9|         5|\n",
            "|CA-2014-115812| 2014-06-09|  BH-11710|   Consumer|United States|   West|FUR-TA-10001539|      Furniture|Chromcraft Rectan...|   1706.184|         9|\n",
            "|CA-2014-115812| 2014-06-09|  BH-11710|   Consumer|United States|   West|TEC-PH-10002033|     Technology|Konftel 250 Confe...|    911.424|         4|\n",
            "|CA-2017-114412| 2017-04-15|  AA-10480|   Consumer|United States|  South|OFF-PA-10002365|Office Supplies|          Xerox 1967|     15.552|         3|\n",
            "|CA-2016-161389| 2016-12-05|  IM-15070|   Consumer|United States|   West|OFF-BI-10003656|Office Supplies|Fellowes PB200 Pl...|    407.976|         3|\n",
            "|US-2015-118983| 2015-11-22|  HP-14815|Home Office|United States|Central|OFF-AP-10002311|Office Supplies|Holmes Replacemen...|      68.81|         5|\n",
            "|US-2015-118983| 2015-11-22|  HP-14815|Home Office|United States|Central|OFF-BI-10000756|Office Supplies|Storex DuraTech R...|      2.544|         3|\n",
            "|CA-2014-105893| 2014-11-11|  PK-19075|   Consumer|United States|Central|OFF-ST-10004186|Office Supplies|\"Stur-D-Stor Shel...|     665.88|         6|\n",
            "|CA-2014-167164| 2014-05-13|  AG-10270|   Consumer|United States|   West|OFF-ST-10000107|Office Supplies|Fellowes Super St...|       55.5|         2|\n",
            "|CA-2014-143336| 2014-08-27|  ZD-21925|   Consumer|United States|   West|OFF-AR-10003056|Office Supplies|          Newell 341|       8.56|         2|\n",
            "|CA-2014-143336| 2014-08-27|  ZD-21925|   Consumer|United States|   West|TEC-PH-10001949|     Technology|Cisco SPA 501G IP...|     213.48|         3|\n",
            "+--------------+-----------+----------+-----------+-------------+-------+---------------+---------------+--------------------+-----------+----------+\n",
            "only showing top 20 rows\n",
            "\n"
          ]
        }
      ]
    },
    {
      "cell_type": "code",
      "source": [
        "#Selecionar colunas:\n",
        "df1 = df.select(\"Segmento\", \"Pais\",\"Regiao\",\"Nome_Produto\",\"Valor_Venda\",\"Quantidade\")"
      ],
      "metadata": {
        "id": "B233T4Er8jJo"
      },
      "execution_count": 11,
      "outputs": []
    },
    {
      "cell_type": "code",
      "source": [
        "df1.show()"
      ],
      "metadata": {
        "colab": {
          "base_uri": "https://localhost:8080/"
        },
        "id": "2-ExePo99a1K",
        "outputId": "33a451b3-bb0b-4858-8554-31bba0b0a297"
      },
      "execution_count": 12,
      "outputs": [
        {
          "output_type": "stream",
          "name": "stdout",
          "text": [
            "+-----------+-------------+-------+--------------------+-----------+----------+\n",
            "|   Segmento|         Pais| Regiao|        Nome_Produto|Valor_Venda|Quantidade|\n",
            "+-----------+-------------+-------+--------------------+-----------+----------+\n",
            "|   Consumer|United States|  South|Bush Somerset Col...|     261.96|      null|\n",
            "|   Consumer|United States|  South|Hon Deluxe Fabric...|     731.94|      null|\n",
            "|  Corporate|United States|   West|Self-Adhesive Add...|      14.62|         2|\n",
            "|   Consumer|United States|  South|Bretford CR4500 S...|   957.5775|         5|\n",
            "|   Consumer|United States|  South|Eldon Fold 'N Rol...|     22.368|         2|\n",
            "|   Consumer|United States|   West|Eldon Expressions...|      48.86|         7|\n",
            "|   Consumer|United States|   West|          Newell 322|       7.28|         4|\n",
            "|   Consumer|United States|   West|Mitel 5320 IP Pho...|    907.152|         6|\n",
            "|   Consumer|United States|   West|DXL Angle-View Bi...|     18.504|         3|\n",
            "|   Consumer|United States|   West|Belkin F5C206VTEL...|      114.9|         5|\n",
            "|   Consumer|United States|   West|Chromcraft Rectan...|   1706.184|         9|\n",
            "|   Consumer|United States|   West|Konftel 250 Confe...|    911.424|         4|\n",
            "|   Consumer|United States|  South|          Xerox 1967|     15.552|         3|\n",
            "|   Consumer|United States|   West|Fellowes PB200 Pl...|    407.976|         3|\n",
            "|Home Office|United States|Central|Holmes Replacemen...|      68.81|         5|\n",
            "|Home Office|United States|Central|Storex DuraTech R...|      2.544|         3|\n",
            "|   Consumer|United States|Central|\"Stur-D-Stor Shel...|     665.88|         6|\n",
            "|   Consumer|United States|   West|Fellowes Super St...|       55.5|         2|\n",
            "|   Consumer|United States|   West|          Newell 341|       8.56|         2|\n",
            "|   Consumer|United States|   West|Cisco SPA 501G IP...|     213.48|         3|\n",
            "+-----------+-------------+-------+--------------------+-----------+----------+\n",
            "only showing top 20 rows\n",
            "\n"
          ]
        }
      ]
    },
    {
      "cell_type": "code",
      "source": [
        "#Mudar o tipo das colunas: \"Valor_Venda\" and \"Quantidade\" para \"Integer\"\n",
        "from pyspark.sql.types import IntegerType\n",
        "df1 = df1.withColumn(\"Valor_Venda\", df1[\"Valor_Venda\"].cast(IntegerType()))\n",
        "df1 = df1.withColumn(\"Quantidade\", df1[\"Quantidade\"].cast(IntegerType()))"
      ],
      "metadata": {
        "id": "t5hF_saeASgY"
      },
      "execution_count": 13,
      "outputs": []
    },
    {
      "cell_type": "code",
      "source": [
        "#Mostrar schema\n",
        "df1.printSchema()"
      ],
      "metadata": {
        "colab": {
          "base_uri": "https://localhost:8080/"
        },
        "id": "1s_s0eRGAogh",
        "outputId": "9387222d-1ca8-4654-ab46-2c83962c3c02"
      },
      "execution_count": 14,
      "outputs": [
        {
          "output_type": "stream",
          "name": "stdout",
          "text": [
            "root\n",
            " |-- Segmento: string (nullable = true)\n",
            " |-- Pais: string (nullable = true)\n",
            " |-- Regiao: string (nullable = true)\n",
            " |-- Nome_Produto: string (nullable = true)\n",
            " |-- Valor_Venda: integer (nullable = true)\n",
            " |-- Quantidade: integer (nullable = true)\n",
            "\n"
          ]
        }
      ]
    },
    {
      "cell_type": "code",
      "source": [
        "df1.show()"
      ],
      "metadata": {
        "colab": {
          "base_uri": "https://localhost:8080/"
        },
        "id": "tOuFLZeoA6eA",
        "outputId": "f481f054-39f5-4f7f-fd4c-1a5625af69b5"
      },
      "execution_count": 15,
      "outputs": [
        {
          "output_type": "stream",
          "name": "stdout",
          "text": [
            "+-----------+-------------+-------+--------------------+-----------+----------+\n",
            "|   Segmento|         Pais| Regiao|        Nome_Produto|Valor_Venda|Quantidade|\n",
            "+-----------+-------------+-------+--------------------+-----------+----------+\n",
            "|   Consumer|United States|  South|Bush Somerset Col...|        261|      null|\n",
            "|   Consumer|United States|  South|Hon Deluxe Fabric...|        731|      null|\n",
            "|  Corporate|United States|   West|Self-Adhesive Add...|         14|         2|\n",
            "|   Consumer|United States|  South|Bretford CR4500 S...|        957|         5|\n",
            "|   Consumer|United States|  South|Eldon Fold 'N Rol...|         22|         2|\n",
            "|   Consumer|United States|   West|Eldon Expressions...|         48|         7|\n",
            "|   Consumer|United States|   West|          Newell 322|          7|         4|\n",
            "|   Consumer|United States|   West|Mitel 5320 IP Pho...|        907|         6|\n",
            "|   Consumer|United States|   West|DXL Angle-View Bi...|         18|         3|\n",
            "|   Consumer|United States|   West|Belkin F5C206VTEL...|        114|         5|\n",
            "|   Consumer|United States|   West|Chromcraft Rectan...|       1706|         9|\n",
            "|   Consumer|United States|   West|Konftel 250 Confe...|        911|         4|\n",
            "|   Consumer|United States|  South|          Xerox 1967|         15|         3|\n",
            "|   Consumer|United States|   West|Fellowes PB200 Pl...|        407|         3|\n",
            "|Home Office|United States|Central|Holmes Replacemen...|         68|         5|\n",
            "|Home Office|United States|Central|Storex DuraTech R...|          2|         3|\n",
            "|   Consumer|United States|Central|\"Stur-D-Stor Shel...|        665|         6|\n",
            "|   Consumer|United States|   West|Fellowes Super St...|         55|         2|\n",
            "|   Consumer|United States|   West|          Newell 341|          8|         2|\n",
            "|   Consumer|United States|   West|Cisco SPA 501G IP...|        213|         3|\n",
            "+-----------+-------------+-------+--------------------+-----------+----------+\n",
            "only showing top 20 rows\n",
            "\n"
          ]
        }
      ]
    },
    {
      "cell_type": "code",
      "source": [
        "#Deletar a coluna no df1 Quantidade_ se ela existir\n",
        "df1 = df1.drop(\"Quantidade_\")"
      ],
      "metadata": {
        "id": "oXCP2Y6KBmBN"
      },
      "execution_count": 16,
      "outputs": []
    },
    {
      "cell_type": "code",
      "source": [
        "df1.show()"
      ],
      "metadata": {
        "colab": {
          "base_uri": "https://localhost:8080/"
        },
        "id": "5Hm7wcIXB4VI",
        "outputId": "0b7bd19e-5211-4898-b083-ad9bb31fd022"
      },
      "execution_count": 17,
      "outputs": [
        {
          "output_type": "stream",
          "name": "stdout",
          "text": [
            "+-----------+-------------+-------+--------------------+-----------+----------+\n",
            "|   Segmento|         Pais| Regiao|        Nome_Produto|Valor_Venda|Quantidade|\n",
            "+-----------+-------------+-------+--------------------+-----------+----------+\n",
            "|   Consumer|United States|  South|Bush Somerset Col...|        261|      null|\n",
            "|   Consumer|United States|  South|Hon Deluxe Fabric...|        731|      null|\n",
            "|  Corporate|United States|   West|Self-Adhesive Add...|         14|         2|\n",
            "|   Consumer|United States|  South|Bretford CR4500 S...|        957|         5|\n",
            "|   Consumer|United States|  South|Eldon Fold 'N Rol...|         22|         2|\n",
            "|   Consumer|United States|   West|Eldon Expressions...|         48|         7|\n",
            "|   Consumer|United States|   West|          Newell 322|          7|         4|\n",
            "|   Consumer|United States|   West|Mitel 5320 IP Pho...|        907|         6|\n",
            "|   Consumer|United States|   West|DXL Angle-View Bi...|         18|         3|\n",
            "|   Consumer|United States|   West|Belkin F5C206VTEL...|        114|         5|\n",
            "|   Consumer|United States|   West|Chromcraft Rectan...|       1706|         9|\n",
            "|   Consumer|United States|   West|Konftel 250 Confe...|        911|         4|\n",
            "|   Consumer|United States|  South|          Xerox 1967|         15|         3|\n",
            "|   Consumer|United States|   West|Fellowes PB200 Pl...|        407|         3|\n",
            "|Home Office|United States|Central|Holmes Replacemen...|         68|         5|\n",
            "|Home Office|United States|Central|Storex DuraTech R...|          2|         3|\n",
            "|   Consumer|United States|Central|\"Stur-D-Stor Shel...|        665|         6|\n",
            "|   Consumer|United States|   West|Fellowes Super St...|         55|         2|\n",
            "|   Consumer|United States|   West|          Newell 341|          8|         2|\n",
            "|   Consumer|United States|   West|Cisco SPA 501G IP...|        213|         3|\n",
            "+-----------+-------------+-------+--------------------+-----------+----------+\n",
            "only showing top 20 rows\n",
            "\n"
          ]
        }
      ]
    },
    {
      "cell_type": "code",
      "source": [
        "#Filtrar o df1 e classificar pelo \"Valor_Venda\"\n",
        "df1.filter(\"Valor_Venda > 1000\").orderBy(\"Valor_Venda\").show()"
      ],
      "metadata": {
        "colab": {
          "base_uri": "https://localhost:8080/"
        },
        "id": "a0dNr80ADhSG",
        "outputId": "e99f17c6-9dbf-49df-b80c-d85725e26446"
      },
      "execution_count": 18,
      "outputs": [
        {
          "output_type": "stream",
          "name": "stdout",
          "text": [
            "+-----------+-------------+-------+--------------------+-----------+----------+\n",
            "|   Segmento|         Pais| Regiao|        Nome_Produto|Valor_Venda|Quantidade|\n",
            "+-----------+-------------+-------+--------------------+-----------+----------+\n",
            "|Home Office|United States|Central|   Samsung Galaxy S4|       1001|         2|\n",
            "|   Consumer|United States|   West|   Samsung Galaxy S4|       1001|         2|\n",
            "|   Consumer|United States|   West|Office Impression...|       1003|         6|\n",
            "|Home Office|United States|   West|Hon 2111 Invitati...|       1004|         6|\n",
            "|   Consumer|United States|   West|Bevis Round Confe...|       1004|         7|\n",
            "|   Consumer|United States|   East|Smead Adjustable ...|       1006|         3|\n",
            "|Home Office|United States|   East|Luxo Professional...|       1007|         6|\n",
            "|   Consumer|United States|   West|Polycom VVX 310 V...|       1007|         7|\n",
            "|Home Office|United States|Central|Canon Color Image...|       1007|         3|\n",
            "|   Consumer|United States|  South|Plantronics Savi ...|       1012|         3|\n",
            "|  Corporate|United States|  South|Hon Olson Stacker...|       1013|         9|\n",
            "|   Consumer|United States|   West|Global Ergonomic ...|       1013|         7|\n",
            "|   Consumer|United States|   West|Fellowes PB500 El...|       1016|         1|\n",
            "|   Consumer|United States|   East|Bush Advantage Co...|       1018|         4|\n",
            "|   Consumer|United States|   East|Cisco Unified IP ...|       1022|         5|\n",
            "|   Consumer|United States|   West|NETGEAR AC1750 Du...|       1023|         8|\n",
            "|   Consumer|United States|Central|Atlantic Metals M...|       1023|         5|\n",
            "|  Corporate|United States|Central|Hon Deluxe Fabric...|       1024|         6|\n",
            "|   Consumer|United States|Central|Bevis Round Confe...|       1024|         7|\n",
            "|  Corporate|United States|   East|Sauder Inglewood ...|       1025|         6|\n",
            "+-----------+-------------+-------+--------------------+-----------+----------+\n",
            "only showing top 20 rows\n",
            "\n"
          ]
        }
      ]
    },
    {
      "cell_type": "code",
      "source": [
        "#Pegar o valor Min e Max da coluna \"Valor_Vendas\"\n",
        "from pyspark.sql.functions import min, max\n",
        "df1.select(min(\"Valor_Venda\").alias('Min_Valor'),\\\n",
        "           max(\"Valor_Venda\").alias('Max_Valor'))\\\n",
        "           .show()"
      ],
      "metadata": {
        "colab": {
          "base_uri": "https://localhost:8080/"
        },
        "id": "40lJFH33EYnN",
        "outputId": "f9e7e8c0-632a-4461-a251-55047d3f3f03"
      },
      "execution_count": 19,
      "outputs": [
        {
          "output_type": "stream",
          "name": "stdout",
          "text": [
            "+---------+---------+\n",
            "|Min_Valor|Max_Valor|\n",
            "+---------+---------+\n",
            "|        0|    22638|\n",
            "+---------+---------+\n",
            "\n"
          ]
        }
      ]
    },
    {
      "cell_type": "code",
      "source": [
        "Valor_maximo = df1.select(max(\"Valor_Venda\").alias('Max_Valor'))"
      ],
      "metadata": {
        "id": "__WQsN4PFao2"
      },
      "execution_count": 20,
      "outputs": []
    },
    {
      "cell_type": "code",
      "source": [
        "Valor_maximo.show()"
      ],
      "metadata": {
        "colab": {
          "base_uri": "https://localhost:8080/"
        },
        "id": "6nICda6vGC5-",
        "outputId": "221c29b9-ab3d-4fa1-d01d-fb5df5a83e25"
      },
      "execution_count": 21,
      "outputs": [
        {
          "output_type": "stream",
          "name": "stdout",
          "text": [
            "+---------+\n",
            "|Max_Valor|\n",
            "+---------+\n",
            "|    22638|\n",
            "+---------+\n",
            "\n"
          ]
        }
      ]
    },
    {
      "cell_type": "code",
      "source": [
        "#Filtra a linha inteira onde \"Valor_Venda\" seja igual ao \"Valor_maximo\"\n",
        "linha_max = df1.filter(df1.Valor_Venda == Valor_maximo.collect()[0][0])"
      ],
      "metadata": {
        "id": "NAA45xREGpYF"
      },
      "execution_count": 25,
      "outputs": []
    },
    {
      "cell_type": "code",
      "source": [
        "linha_max.show()"
      ],
      "metadata": {
        "colab": {
          "base_uri": "https://localhost:8080/"
        },
        "id": "oOc9x1cwKbGf",
        "outputId": "342ec77a-c56f-4625-eaaa-deb38618ded8"
      },
      "execution_count": 26,
      "outputs": [
        {
          "output_type": "stream",
          "name": "stdout",
          "text": [
            "+-----------+-------------+------+--------------------+-----------+----------+\n",
            "|   Segmento|         Pais|Regiao|        Nome_Produto|Valor_Venda|Quantidade|\n",
            "+-----------+-------------+------+--------------------+-----------+----------+\n",
            "|Home Office|United States| South|Cisco TelePresenc...|      22638|         6|\n",
            "+-----------+-------------+------+--------------------+-----------+----------+\n",
            "\n"
          ]
        }
      ]
    },
    {
      "cell_type": "code",
      "source": [
        "#Data de hoje\n",
        "from datetime import date\n",
        "hoje = date.today()\n",
        "print(hoje)"
      ],
      "metadata": {
        "colab": {
          "base_uri": "https://localhost:8080/"
        },
        "id": "ACDb6NGGL-3_",
        "outputId": "ecc373cd-6d8a-4900-c216-3480d96d667a"
      },
      "execution_count": 31,
      "outputs": [
        {
          "output_type": "stream",
          "name": "stdout",
          "text": [
            "2025-06-08\n"
          ]
        }
      ]
    },
    {
      "cell_type": "code",
      "source": [
        "#Exportar \"linha_max\" para um csv\n",
        "linha_max.toPandas().to_csv(f'linha_max_{hoje}.csv')\n",
        "print(f\"Dados exportados com êxito 'linha_max_{hoje}.csv'\")"
      ],
      "metadata": {
        "colab": {
          "base_uri": "https://localhost:8080/"
        },
        "id": "l-BwN8dMK2Pf",
        "outputId": "82a826c9-8bee-42b1-9bb8-0acf9c471cc4"
      },
      "execution_count": 37,
      "outputs": [
        {
          "output_type": "stream",
          "name": "stdout",
          "text": [
            "Dados exportados com êxito 'linha_max_2025-06-08.csv'\n"
          ]
        }
      ]
    },
    {
      "cell_type": "code",
      "source": [
        "#Filtrar df1 onde coluna \"Nome_Produto\" contém a palavra: \"Cisco\"\n",
        "from pyspark.sql.functions import col\n",
        "df1_filtrado = df1.filter(col(\"Nome_Produto\").like(\"%Cisco%\"))\n"
      ],
      "metadata": {
        "id": "hxnvnKcPM8jw"
      },
      "execution_count": 64,
      "outputs": []
    },
    {
      "cell_type": "code",
      "source": [
        "df1_filtrado.show()"
      ],
      "metadata": {
        "colab": {
          "base_uri": "https://localhost:8080/"
        },
        "id": "CHsKT_HhNjDO",
        "outputId": "ef7974f6-2ad0-4831-abf0-085ca4f7bf15"
      },
      "execution_count": 65,
      "outputs": [
        {
          "output_type": "stream",
          "name": "stdout",
          "text": [
            "+-----------+-------------+-------+--------------------+-----------+----------+\n",
            "|   Segmento|         Pais| Regiao|        Nome_Produto|Valor_Venda|Quantidade|\n",
            "+-----------+-------------+-------+--------------------+-----------+----------+\n",
            "|   Consumer|United States|   West|Cisco SPA 501G IP...|        213|         3|\n",
            "|  Corporate|United States|   East|Cisco 9971 IP Vid...|       1188|         9|\n",
            "|   Consumer|United States|Central|Cisco Small Busin...|        328|         4|\n",
            "|  Corporate|United States|   West|Cisco SPA525G2 IP...|         95|         6|\n",
            "|   Consumer|United States|   West|        Cisco SPA301|        374|         3|\n",
            "|  Corporate|United States|   East|Cisco 8x8 Inc. 67...|        728|         9|\n",
            "|   Consumer|United States|  South|Cisco Unified IP ...|       1363|         5|\n",
            "|Home Office|United States|   East|        Cisco SPA301|        280|         3|\n",
            "|   Consumer|United States|   East|Cisco SPA525G2 5-...|       1379|         8|\n",
            "|  Corporate|United States|   East|       Cisco SPA508G|        197|         3|\n",
            "|   Consumer|United States|  South|Cisco Unified IP ...|       1363|         5|\n",
            "|Home Office|United States|   East|Cisco SPA525G2 IP...|         35|         3|\n",
            "|  Corporate|United States|  South|Cisco CP-7937G Un...|        695|         2|\n",
            "|Home Office|United States|   West|Cisco IP Phone 79...|       1212|         7|\n",
            "|  Corporate|United States|Central|Cisco SPA 502G IP...|        863|         9|\n",
            "|  Corporate|United States|   East|       Cisco SPA508G|        197|         3|\n",
            "|  Corporate|United States|Central|        Cisco SPA301|        124|         1|\n",
            "|   Consumer|United States|   East|Cisco SPA525G2 IP...|        119|         6|\n",
            "|Home Office|United States|   West|Cisco Small Busin...|        246|         3|\n",
            "|Home Office|United States|  South|Cisco TelePresenc...|      22638|         6|\n",
            "+-----------+-------------+-------+--------------------+-----------+----------+\n",
            "only showing top 20 rows\n",
            "\n"
          ]
        }
      ]
    },
    {
      "cell_type": "code",
      "source": [
        "#Contar quantidade de linha no \"df1_filtrado\"\n",
        "df1_filtrado.count()"
      ],
      "metadata": {
        "colab": {
          "base_uri": "https://localhost:8080/"
        },
        "id": "ALhuLOxTOd-v",
        "outputId": "8179421a-cc62-449a-ba60-4972a9e4051f"
      },
      "execution_count": 59,
      "outputs": [
        {
          "output_type": "execute_result",
          "data": {
            "text/plain": [
              "5"
            ]
          },
          "metadata": {},
          "execution_count": 59
        }
      ]
    },
    {
      "cell_type": "code",
      "source": [
        "#Incluir uma coluna chamada \"DtIngest\" com a data de hoje no \"df1_filtrado\"\n",
        "from pyspark.sql.functions import lit\n",
        "df1_filtrado = df1_filtrado.withColumn(\"DtIngest\", lit(hoje))\n",
        "\n",
        "#Criar uma nova coluna chamada \"Valor_Total\" multimpliando \"Valor_Venda\" x \"Quantidade\"\n",
        "df1_filtrado = df1_filtrado.withColumn(\"Valor_Total\", df1_filtrado.Valor_Venda * df1_filtrado.Quantidade)\n"
      ],
      "metadata": {
        "id": "quME7x1iOzO2"
      },
      "execution_count": 60,
      "outputs": []
    },
    {
      "cell_type": "code",
      "source": [
        "df1_filtrado.show()"
      ],
      "metadata": {
        "colab": {
          "base_uri": "https://localhost:8080/"
        },
        "id": "QeS1tw1cPB94",
        "outputId": "5d2883b4-f434-4a20-c7a0-aaa465c0de23"
      },
      "execution_count": 61,
      "outputs": [
        {
          "output_type": "stream",
          "name": "stdout",
          "text": [
            "+---------+-------------+-------+-------------+-----------+----------+----------+-----------+\n",
            "| Segmento|         Pais| Regiao| Nome_Produto|Valor_Venda|Quantidade|  DtIngest|Valor_Total|\n",
            "+---------+-------------+-------+-------------+-----------+----------+----------+-----------+\n",
            "|Corporate|United States|   East|Cisco SPA508G|        197|         3|2025-06-08|        591|\n",
            "|Corporate|United States|   East|Cisco SPA508G|        197|         3|2025-06-08|        591|\n",
            "| Consumer|United States|   East|Cisco SPA508G|         39|         1|2025-06-08|         39|\n",
            "| Consumer|United States|   West|Cisco SPA508G|        211|         4|2025-06-08|        844|\n",
            "| Consumer|United States|Central|Cisco SPA508G|        263|         4|2025-06-08|       1052|\n",
            "+---------+-------------+-------+-------------+-----------+----------+----------+-----------+\n",
            "\n"
          ]
        }
      ]
    },
    {
      "cell_type": "code",
      "source": [
        "#Exportar \"linha_max\" para um csv\n",
        "df1_filtrado.toPandas().to_excel(f'Contem_Cisco_{hoje}.xlsx')\n",
        "print(f\"Dados exportados com êxito 'Contem_Cisco_{hoje}.xlsx'\")"
      ],
      "metadata": {
        "colab": {
          "base_uri": "https://localhost:8080/"
        },
        "id": "fbg93STFNtLv",
        "outputId": "ee28a5a1-df96-4a57-aa0f-8c363b1c7fc6"
      },
      "execution_count": 56,
      "outputs": [
        {
          "output_type": "stream",
          "name": "stdout",
          "text": [
            "Dados exportados com êxito 'Contem_Cisco_2025-06-08.xlsx'\n"
          ]
        }
      ]
    },
    {
      "cell_type": "code",
      "source": [
        "df.show()"
      ],
      "metadata": {
        "colab": {
          "base_uri": "https://localhost:8080/"
        },
        "id": "GympTphPQZAm",
        "outputId": "b84ad286-7953-48ec-f82f-4671647a63c9"
      },
      "execution_count": 66,
      "outputs": [
        {
          "output_type": "stream",
          "name": "stdout",
          "text": [
            "+--------------+-----------+----------+-----------+-------------+-------+---------------+---------------+--------------------+-----------+----------+\n",
            "|     ID_Pedido|Data_Pedido|ID_Cliente|   Segmento|         Pais| Regiao|     ID_Produto|      Categoria|        Nome_Produto|Valor_Venda|Quantidade|\n",
            "+--------------+-----------+----------+-----------+-------------+-------+---------------+---------------+--------------------+-----------+----------+\n",
            "|CA-2016-152156| 2016-11-08|  CG-12520|   Consumer|United States|  South|FUR-BO-10001798|      Furniture|Bush Somerset Col...|     261.96|      null|\n",
            "|CA-2016-152156| 2016-11-08|  CG-12520|   Consumer|United States|  South|FUR-CH-10000454|      Furniture|Hon Deluxe Fabric...|     731.94|      null|\n",
            "|CA-2016-138688| 2016-06-12|  DV-13045|  Corporate|United States|   West|OFF-LA-10000240|Office Supplies|Self-Adhesive Add...|      14.62|         2|\n",
            "|US-2015-108966| 2015-10-11|  SO-20335|   Consumer|United States|  South|FUR-TA-10000577|      Furniture|Bretford CR4500 S...|   957.5775|         5|\n",
            "|US-2015-108966| 2015-10-11|  SO-20335|   Consumer|United States|  South|OFF-ST-10000760|Office Supplies|Eldon Fold 'N Rol...|     22.368|         2|\n",
            "|CA-2014-115812| 2014-06-09|  BH-11710|   Consumer|United States|   West|FUR-FU-10001487|      Furniture|Eldon Expressions...|      48.86|         7|\n",
            "|CA-2014-115812| 2014-06-09|  BH-11710|   Consumer|United States|   West|OFF-AR-10002833|Office Supplies|          Newell 322|       7.28|         4|\n",
            "|CA-2014-115812| 2014-06-09|  BH-11710|   Consumer|United States|   West|TEC-PH-10002275|     Technology|Mitel 5320 IP Pho...|    907.152|         6|\n",
            "|CA-2014-115812| 2014-06-09|  BH-11710|   Consumer|United States|   West|OFF-BI-10003910|Office Supplies|DXL Angle-View Bi...|     18.504|         3|\n",
            "|CA-2014-115812| 2014-06-09|  BH-11710|   Consumer|United States|   West|OFF-AP-10002892|Office Supplies|Belkin F5C206VTEL...|      114.9|         5|\n",
            "|CA-2014-115812| 2014-06-09|  BH-11710|   Consumer|United States|   West|FUR-TA-10001539|      Furniture|Chromcraft Rectan...|   1706.184|         9|\n",
            "|CA-2014-115812| 2014-06-09|  BH-11710|   Consumer|United States|   West|TEC-PH-10002033|     Technology|Konftel 250 Confe...|    911.424|         4|\n",
            "|CA-2017-114412| 2017-04-15|  AA-10480|   Consumer|United States|  South|OFF-PA-10002365|Office Supplies|          Xerox 1967|     15.552|         3|\n",
            "|CA-2016-161389| 2016-12-05|  IM-15070|   Consumer|United States|   West|OFF-BI-10003656|Office Supplies|Fellowes PB200 Pl...|    407.976|         3|\n",
            "|US-2015-118983| 2015-11-22|  HP-14815|Home Office|United States|Central|OFF-AP-10002311|Office Supplies|Holmes Replacemen...|      68.81|         5|\n",
            "|US-2015-118983| 2015-11-22|  HP-14815|Home Office|United States|Central|OFF-BI-10000756|Office Supplies|Storex DuraTech R...|      2.544|         3|\n",
            "|CA-2014-105893| 2014-11-11|  PK-19075|   Consumer|United States|Central|OFF-ST-10004186|Office Supplies|\"Stur-D-Stor Shel...|     665.88|         6|\n",
            "|CA-2014-167164| 2014-05-13|  AG-10270|   Consumer|United States|   West|OFF-ST-10000107|Office Supplies|Fellowes Super St...|       55.5|         2|\n",
            "|CA-2014-143336| 2014-08-27|  ZD-21925|   Consumer|United States|   West|OFF-AR-10003056|Office Supplies|          Newell 341|       8.56|         2|\n",
            "|CA-2014-143336| 2014-08-27|  ZD-21925|   Consumer|United States|   West|TEC-PH-10001949|     Technology|Cisco SPA 501G IP...|     213.48|         3|\n",
            "+--------------+-----------+----------+-----------+-------------+-------+---------------+---------------+--------------------+-----------+----------+\n",
            "only showing top 20 rows\n",
            "\n"
          ]
        }
      ]
    },
    {
      "cell_type": "code",
      "source": [
        "from pyspark.sql.functions import col, current_date, date_sub\n",
        "df_filtro_data = df.filter(col(\"Data_Pedido\") >= date_sub(current_date(), 30))"
      ],
      "metadata": {
        "id": "iyNjR3xdRGuo"
      },
      "execution_count": 75,
      "outputs": []
    },
    {
      "cell_type": "code",
      "source": [
        "df_filtro_data.show()"
      ],
      "metadata": {
        "colab": {
          "base_uri": "https://localhost:8080/"
        },
        "id": "y1s__j1bRUh2",
        "outputId": "5d09b41f-3b58-44f3-8034-7eca8c41d266"
      },
      "execution_count": 76,
      "outputs": [
        {
          "output_type": "stream",
          "name": "stdout",
          "text": [
            "+---------+-----------+----------+--------+----+------+----------+---------+------------+-----------+----------+\n",
            "|ID_Pedido|Data_Pedido|ID_Cliente|Segmento|Pais|Regiao|ID_Produto|Categoria|Nome_Produto|Valor_Venda|Quantidade|\n",
            "+---------+-----------+----------+--------+----+------+----------+---------+------------+-----------+----------+\n",
            "+---------+-----------+----------+--------+----+------+----------+---------+------------+-----------+----------+\n",
            "\n"
          ]
        }
      ]
    }
  ]
}