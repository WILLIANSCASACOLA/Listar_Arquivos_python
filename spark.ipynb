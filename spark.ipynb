# Importando as bibliotecas necessárias
from pyspark.sql import SparkSession
from pyspark.sql.functions import col

# Criando uma SparkSession
spark = SparkSession.builder.appName("ExemploPySpark").getOrCreate()

# Criando um DataFrame a partir de uma lista de dicionários
dados = [
    {"id": 1, "nome": "Alice", "idade": 25},
    {"id": 2, "nome": "Bob", "idade": 30},
    {"id": 3, "nome": "Carlos", "idade": 22}
]

df = spark.createDataFrame(dados)

# Exibindo o DataFrame
print("📌 DataFrame Original:")
df.show()

# Filtrando pessoas com idade maior que 25
df_filtrado = df.filter(col("idade") > 25)

print("📌 Pessoas com idade maior que 25:")
df_filtrado.show()

# Ordenando por idade
df_ordenado = df.orderBy(col("idade"))

print("📌 DataFrame Ordenado por Idade:")
df_ordenado.show()

# Encerrando a SparkSession
spark.stop()